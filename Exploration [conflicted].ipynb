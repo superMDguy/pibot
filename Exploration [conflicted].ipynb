{
 "cells": [
  {
   "cell_type": "markdown",
   "metadata": {},
   "source": [
    "# Pi Robot Exploration"
   ]
  },
  {
   "cell_type": "markdown",
   "metadata": {},
   "source": [
    "## Setup"
   ]
  },
  {
   "cell_type": "code",
   "execution_count": 3,
   "metadata": {
    "id": "G9oqm_gUVK-K",
    "lines_to_next_cell": 2
   },
   "outputs": [],
   "source": [
    "import random\n",
    "from tqdm import tqdm\n",
    "import numpy as np\n",
    "import math\n",
    "import os\n",
    "\n",
    "%matplotlib inline\n",
    "from matplotlib import pyplot as plt\n",
    "\n",
    "import magnum as mn\n",
    "from PIL import Image\n",
    "\n",
    "import habitat_sim\n",
    "from habitat_sim.utils import common as utils\n",
    "from habitat_sim.utils import viz_utils as vut\n",
    "\n",
    "def display_sample(rgb_obs, semantic_obs=np.array([]), depth_obs=np.array([])):\n",
    "    from habitat_sim.utils.common import d3_40_colors_rgb\n",
    "    \n",
    "    \n",
    "\n",
    "    rgb_img = Image.fromarray(rgb_obs, mode=\"RGBA\")\n",
    "\n",
    "    arr = [rgb_img]\n",
    "    titles = [\"rgb\"]\n",
    "\n",
    "    plt.figure(figsize=(12, 8))\n",
    "    for i, data in enumerate(arr):\n",
    "        ax = plt.subplot(1, 3, i + 1)\n",
    "        ax.axis(\"off\")\n",
    "        ax.set_title(titles[i])\n",
    "        plt.imshow(data)\n",
    "    plt.show(block=False)"
   ]
  },
  {
   "cell_type": "markdown",
   "metadata": {},
   "source": [
    "### Actual PiCar Stats\n",
    "- Width: 5\", 0.127m\n",
    "- Length: 7\", 0.178\n",
    "- Height: 4\", 0.1m\n",
    "- Camera: 3\", 0.076m"
   ]
  },
  {
   "cell_type": "code",
   "execution_count": null,
   "metadata": {
    "id": "Ood6xSedVK-N"
   },
   "outputs": [],
   "source": [
    "sim_cfg = habitat_sim.SimulatorConfiguration()\n",
    "sim_cfg.scene_id = './data//versioned_data/replica_cad_baked_lighting_1.0/remake_v0_v3_sc4_staging_05.glb'\n",
    "sim_cfg.enable_physics = True\n",
    "sim_cfg.allow_sliding = False\n",
    "\n",
    "picam = habitat_sim.CameraSensorSpec()\n",
    "picam.uuid = \"color_sensor\"\n",
    "picam.sensor_type = habitat_sim.SensorType.COLOR\n",
    "# TODO: Noise model?\n",
    "picam.resolution = [720, 1280]\n",
    "picam.hfov = 62.2 # https://elinux.org/Rpi_Camera_Module#Technical_Parameters_.28v.2_board.29\n",
    "picam.position = [0.0, 0.076, 0.0] # TODO: maybe change y position since it's not in the center?\n",
    "\n",
    "# agent\n",
    "agent_cfg = habitat_sim.agent.AgentConfiguration()\n",
    "agent_cfg.sensor_specifications = [picam]\n",
    "agent_cfg.height = 0.1\n",
    "agent_cfg.mass = 0.5\n",
    "agent_cfg.linear_acceleration = 1.4\n",
    "\n",
    "\n",
    "picar = habitat_sim.Configuration(sim_cfg, [agent_cfg])"
   ]
  },
  {
   "cell_type": "code",
   "execution_count": null,
   "metadata": {
    "id": "RlclZoloVK-O"
   },
   "outputs": [],
   "source": [
    "try:  # Needed to handle out of order cell run in Colab\n",
    "    sim.close()\n",
    "except NameError:\n",
    "    pass\n",
    "sim = habitat_sim.Simulator(picar)"
   ]
  },
  {
   "cell_type": "code",
   "execution_count": null,
   "metadata": {
    "id": "P4nH0LblVK-P"
   },
   "outputs": [],
   "source": [
    "# initialize an agent\n",
    "agent = sim.initialize_agent(0)\n",
    "\n",
    "# Set agent state\n",
    "agent_state = habitat_sim.AgentState()\n",
    "agent_state.position = np.zeros(3)  # in world space\n",
    "agent.set_state(agent_state)\n",
    "\n",
    "# Get agent state\n",
    "agent_state = agent.get_state()\n",
    "print(\"agent_state: position\", agent_state.position, \"rotation\", agent_state.rotation)"
   ]
  },
  {
   "cell_type": "markdown",
   "metadata": {
    "jp-MarkdownHeadingCollapsed": true,
    "tags": []
   },
   "source": [
    "## Test Moving Around"
   ]
  },
  {
   "cell_type": "code",
   "execution_count": null,
   "metadata": {
    "id": "xN3mjtL1VK-P"
   },
   "outputs": [],
   "source": [
    "# obtain the default, discrete actions that an agent can perform\n",
    "# default action space contains 3 actions: move_forward, turn_left, and turn_right\n",
    "action_names = list(picar.agents[0].action_space.keys())\n",
    "print(\"Discrete action space: \", action_names)\n",
    "\n",
    "\n",
    "def navigateAndSee(action=\"\"):\n",
    "    if action in action_names:\n",
    "        observations = sim.step(action)\n",
    "        print(\"action: \", action)\n",
    "        if display:\n",
    "            display_sample(observations[\"color_sensor\"])"
   ]
  },
  {
   "cell_type": "code",
   "execution_count": null,
   "metadata": {},
   "outputs": [],
   "source": [
    "navigateAndSee('move_forward')"
   ]
  },
  {
   "cell_type": "markdown",
   "metadata": {
    "tags": []
   },
   "source": [
    "## More Sophistication"
   ]
  },
  {
   "cell_type": "markdown",
   "metadata": {},
   "source": [
    "### NavMesh"
   ]
  },
  {
   "cell_type": "code",
   "execution_count": null,
   "metadata": {},
   "outputs": [],
   "source": [
    "navmesh_settings = habitat_sim.NavMeshSettings()\n",
    "\n",
    "navmesh_settings.set_defaults()\n",
    "navmesh_settings.cell_size = 0.01 #@param {type:\"slider\", min:0.01, max:0.2, step:0.01}\n",
    "#default = 0.05\n",
    "navmesh_settings.cell_height = 0.01 #@param {type:\"slider\", min:0.01, max:0.4, step:0.01}\n",
    "#default = 0.2\n",
    "\n",
    "#@markdown **Agent parameters**:\n",
    "navmesh_settings.agent_height = 0.1 #@param {type:\"slider\", min:0.01, max:3.0, step:0.01}\n",
    "#default = 1.5\n",
    "navmesh_settings.agent_radius = 0.1 #@param {type:\"slider\", min:0.01, max:0.5, step:0.01}\n",
    "#default = 0.1\n",
    "navmesh_settings.agent_max_climb = 0.2 #@param {type:\"slider\", min:0.01, max:0.5, step:0.01}\n",
    "#default = 0.2\n",
    "navmesh_settings.agent_max_slope = 45 #@param {type:\"slider\", min:0, max:85, step:1.0}\n",
    "# default = 45.0\n",
    "# fmt: on\n",
    "navmesh_settings.filter_low_hanging_obstacles = True  # @param {type:\"boolean\"}\n",
    "# default = True\n",
    "navmesh_settings.filter_ledge_spans = True  # @param {type:\"boolean\"}\n",
    "# default = True\n",
    "navmesh_settings.filter_walkable_low_height_spans = True  # @param {type:\"boolean\"}\n",
    "# default = True\n",
    "\n",
    "navmesh_settings.region_min_size = 0 #@param {type:\"slider\", min:0, max:50, step:1}\n",
    "#default = 20\n",
    "navmesh_settings.region_merge_size = 0 #@param {type:\"slider\", min:0, max:50, step:1}\n",
    "#default = 20\n",
    "navmesh_settings.edge_max_len = 0 #@param {type:\"slider\", min:0, max:50, step:1}\n",
    "#default = 12.0\n",
    "navmesh_settings.edge_max_error = 0.1 #@param {type:\"slider\", min:0, max:5, step:0.1}\n",
    "#default = 1.3\n",
    "navmesh_settings.verts_per_poly = 6.0 #@param {type:\"slider\", min:3, max:6, step:1}\n",
    "#default = 6.0\n",
    "navmesh_settings.detail_sample_dist = 6.0 #@param {type:\"slider\", min:0, max:10.0, step:0.1}\n",
    "#default = 6.0\n",
    "navmesh_settings.detail_sample_max_error = 1.0 #@param {type:\"slider\", min:0, max:10.0, step:0.1}\n",
    "# default = 1.0\n",
    "# fmt: on\n",
    "\n",
    "navmesh_success = sim.recompute_navmesh(\n",
    "    sim.pathfinder, navmesh_settings, include_static_objects=True\n",
    ")\n",
    "\n",
    "if not navmesh_success:\n",
    "    print(\"Failed to build the navmesh! Try different parameters?\")"
   ]
  },
  {
   "cell_type": "code",
   "execution_count": null,
   "metadata": {},
   "outputs": [],
   "source": [
    "def random_position():\n",
    "    agent_state = sim.agents[0].get_state()\n",
    "    agent_state.position = sim.pathfinder.get_random_navigable_point()\n",
    "    orientation = random.random() * math.pi * 2.0\n",
    "    agent_state.rotation = utils.quat_from_magnum(\n",
    "        mn.Quaternion.rotation(-mn.Rad(orientation), mn.Vector3(0, 1.0, 0))\n",
    "    )\n",
    "\n",
    "    sim.agents[0].set_state(agent_state)"
   ]
  },
  {
   "cell_type": "code",
   "execution_count": null,
   "metadata": {},
   "outputs": [],
   "source": [
    "random_position()\n",
    "plt.imshow(sim.get_sensor_observations()['color_sensor'])"
   ]
  },
  {
   "cell_type": "markdown",
   "metadata": {
    "tags": []
   },
   "source": [
    "## Continuous Navigation"
   ]
  },
  {
   "cell_type": "code",
   "execution_count": null,
   "metadata": {},
   "outputs": [],
   "source": [
    "vel_control = habitat_sim.physics.VelocityControl()\n",
    "vel_control.controlling_lin_vel = True\n",
    "vel_control.lin_vel_is_local = True\n",
    "vel_control.controlling_ang_vel = True\n",
    "vel_control.ang_vel_is_local = True\n",
    "\n",
    "\n",
    "agent = sim.agents[0]\n",
    "\n",
    "ACCEL = 0.1 # m/s^2\n",
    "MAX_VEL = 1.5 # m/s\n",
    "target_linear_vel = 0. # m/s\n",
    "\n",
    "def move_linear(direction):\n",
    "    global target_linear_vel\n",
    "    target_linear_vel= float(direction)\n",
    "    \n",
    "def turn(direction):\n",
    "    vel_control.angular_velocity = np.array([0, float(direction), 0])\n",
    "    \n",
    "def update_position(time_step):\n",
    "    current_vel = vel_control.linear_velocity[2]\n",
    "    \n",
    "    next_step_vel = None\n",
    "    if target_linear_vel > current_vel:\n",
    "        next_step_vel = min(MAX_VEL, current_vel + ACCEL * time_step)\n",
    "    else: \n",
    "        next_step_vel = max(-1 * MAX_VEL, current_vel - ACCEL * time_step)\n",
    "    vel_control.linear_velocity = np.array([0., 0., next_step_vel])\n",
    "    \n",
    "    # TODO: probably just directly integrate acceleration into state??\n",
    "\n",
    "    # Integrate the velocity and apply the transform.\n",
    "    # Note: this can be done at a higher frequency for more accuracy\n",
    "    agent_state = agent.state\n",
    "    previous_rigid_state = habitat_sim.RigidState(\n",
    "        utils.quat_to_magnum(agent_state.rotation), agent_state.position\n",
    "    )\n",
    "\n",
    "    # manually integrate the rigid state\n",
    "    target_rigid_state = vel_control.integrate_transform(\n",
    "        time_step, previous_rigid_state\n",
    "    )\n",
    "\n",
    "    # snap rigid state to navmesh and set state to object/agent\n",
    "    # calls pathfinder.try_step or self.pathfinder.try_step_no_sliding\n",
    "    end_pos = sim.step_filter(\n",
    "        previous_rigid_state.translation, target_rigid_state.translation\n",
    "    )\n",
    "\n",
    "    # set the computed state\n",
    "    agent_state.position = end_pos\n",
    "    agent_state.rotation = utils.quat_from_magnum(\n",
    "        target_rigid_state.rotation\n",
    "    )\n",
    "    agent.set_state(agent_state)\n",
    "\n",
    "    # Check if a collision occured\n",
    "    dist_moved_before_filter = (\n",
    "        target_rigid_state.translation - previous_rigid_state.translation\n",
    "    ).dot()\n",
    "    dist_moved_after_filter = (\n",
    "        end_pos - previous_rigid_state.translation\n",
    "    ).dot()\n",
    "\n",
    "    # NB: There are some cases where ||filter_end - end_pos|| > 0 when a\n",
    "    # collision _didn't_ happen. One such case is going up stairs.  Instead,\n",
    "    # we check to see if the the amount moved after the application of the filter\n",
    "    # is _less_ than the amount moved before the application of the filter\n",
    "    EPS = 1e-5\n",
    "    collided = (dist_moved_after_filter + EPS) < dist_moved_before_filter\n",
    "\n",
    "    # run any dynamics simulation\n",
    "    sim.step_physics(time_step)\n",
    "    \n",
    "    return collided"
   ]
  },
  {
   "cell_type": "code",
   "execution_count": null,
   "metadata": {},
   "outputs": [],
   "source": [
    "observations = []\n",
    "random_position()\n",
    "\n",
    "sim_time = 10\n",
    "control_frequency = 1  # @param {type:\"slider\", min:1, max:30, step:1}\n",
    "frame_skip = 60  # @param {type:\"slider\", min:1, max:30, step:1}\n",
    "\n",
    "\n",
    "fps = control_frequency * frame_skip\n",
    "print(\"fps = \" + str(fps))\n",
    "\n",
    "time_step = 1.0 / (frame_skip * control_frequency)\n",
    "print(\"time_step = \" + str(time_step))\n",
    "movement = 1\n",
    "for _ in range(int(sim_time * control_frequency)):\n",
    "    move_linear(movement)\n",
    "    turn(random.choice([-1,1,0]))\n",
    "\n",
    "    for _frame in range(frame_skip):\n",
    "        collided = update_position(time_step)\n",
    "        observations.append(sim.get_sensor_observations())\n",
    "        \n",
    "        if (collided):\n",
    "            movement = -1 * movement\n",
    "\n",
    "print(\"frames = \" + str(len(observations)))"
   ]
  },
  {
   "cell_type": "code",
   "execution_count": null,
   "metadata": {},
   "outputs": [],
   "source": [
    "vut.make_video(observations, 'color_sensor', 'color', './out.mp4', fps=fps)"
   ]
  },
  {
   "cell_type": "markdown",
   "metadata": {},
   "source": [
    "## Gym Env"
   ]
  },
  {
   "cell_type": "code",
   "execution_count": 1,
   "metadata": {},
   "outputs": [
    {
     "name": "stderr",
     "output_type": "stream",
     "text": [
      "WARNING: Logging before InitGoogleLogging() is written to STDERR\n",
      "I0120 11:35:22.945595 56608128 ManagedFileBasedContainer.h:210] <Dataset>::convertFilenameToPassedExt : Filename : default changed to proposed scene_dataset_config.json filename : default.scene_dataset_config.json\n",
      "I0120 11:35:22.945626 56608128 AttributesManagerBase.h:365] <Dataset>::createFromJsonOrDefaultInternal : Proposing JSON name : default.scene_dataset_config.json from original name : default | This file  does not exist.\n",
      "I0120 11:35:23.607990 85909 simulator.py:221] Loaded navmesh ./data//versioned_data/habitat_test_scenes_1.0/van-gogh-room.navmesh\n",
      "I0120 11:35:22.945662 56608128 AssetAttributesManager.cpp:120] Asset attributes (capsule3DSolid : capsule3DSolid_hemiRings_4_cylRings_1_segments_12_halfLen_0.75_useTexCoords_false_useTangents_false) created and registered.\n",
      "I0120 11:35:22.945677 56608128 AssetAttributesManager.cpp:120] Asset attributes (capsule3DWireframe : capsule3DWireframe_hemiRings_8_cylRings_1_segments_16_halfLen_1) created and registered.\n",
      "I0120 11:35:22.945690 56608128 AssetAttributesManager.cpp:120] Asset attributes (coneSolid : coneSolid_segments_12_halfLen_1.25_rings_1_useTexCoords_false_useTangents_false_capEnd_true) created and registered.\n",
      "I0120 11:35:22.945703 56608128 AssetAttributesManager.cpp:120] Asset attributes (coneWireframe : coneWireframe_segments_32_halfLen_1.25) created and registered.\n",
      "I0120 11:35:22.945708 56608128 AssetAttributesManager.cpp:120] Asset attributes (cubeSolid : cubeSolid) created and registered.\n",
      "I0120 11:35:22.945711 56608128 AssetAttributesManager.cpp:120] Asset attributes (cubeWireframe : cubeWireframe) created and registered.\n",
      "I0120 11:35:22.945727 56608128 AssetAttributesManager.cpp:120] Asset attributes (cylinderSolid : cylinderSolid_rings_1_segments_12_halfLen_1_useTexCoords_false_useTangents_false_capEnds_true) created and registered.\n",
      "I0120 11:35:22.945736 56608128 AssetAttributesManager.cpp:120] Asset attributes (cylinderWireframe : cylinderWireframe_rings_1_segments_32_halfLen_1) created and registered.\n",
      "I0120 11:35:22.945742 56608128 AssetAttributesManager.cpp:120] Asset attributes (icosphereSolid : icosphereSolid_subdivs_1) created and registered.\n",
      "I0120 11:35:22.945747 56608128 AssetAttributesManager.cpp:120] Asset attributes (icosphereWireframe : icosphereWireframe_subdivs_1) created and registered.\n",
      "I0120 11:35:22.945755 56608128 AssetAttributesManager.cpp:120] Asset attributes (uvSphereSolid : uvSphereSolid_rings_8_segments_16_useTexCoords_false_useTangents_false) created and registered.\n",
      "I0120 11:35:22.945762 56608128 AssetAttributesManager.cpp:120] Asset attributes (uvSphereWireframe : uvSphereWireframe_rings_16_segments_32) created and registered.\n",
      "I0120 11:35:22.945767 56608128 AssetAttributesManager.cpp:108] ::constructor : Built default primitive asset templates : 12\n",
      "I0120 11:35:22.945937 56608128 SceneDatasetAttributesManager.cpp:36] File (default) not found, so new default dataset attributes created and registered.\n",
      "I0120 11:35:22.945940 56608128 MetadataMediator.cpp:127] ::createSceneDataset : Dataset default successfully created.\n",
      "I0120 11:35:22.945943 56608128 AttributesManagerBase.h:365] <Physics Manager>::createFromJsonOrDefaultInternal : Proposing JSON name : ./data/default.physics_config.json from original name : ./data/default.physics_config.json | This file  does not exist.\n",
      "I0120 11:35:22.945950 56608128 PhysicsAttributesManager.cpp:26] File (./data/default.physics_config.json) not found, so new default physics manager attributes created and registered.\n",
      "I0120 11:35:22.945952 56608128 MetadataMediator.cpp:212] ::setActiveSceneDatasetName : Previous active dataset  changed to default successfully.\n",
      "I0120 11:35:22.945955 56608128 MetadataMediator.cpp:183] ::setCurrPhysicsAttributesHandle : Old physics manager attributes  changed to ./data/default.physics_config.json successfully.\n",
      "I0120 11:35:22.945956 56608128 MetadataMediator.cpp:68] ::setSimulatorConfiguration : Set new simulator config for scene/stage : ./data//versioned_data/habitat_test_scenes_1.0/van-gogh-room.glb and dataset : default which is currently active dataset.\n",
      "I0120 11:35:23.002028 56608128 ManagedFileBasedContainer.h:210] <Scene Instance>::convertFilenameToPassedExt : Filename : ./data//versioned_data/habitat_test_scenes_1.0/van-gogh-room.glb changed to proposed scene_instance.json filename : ./data//versioned_data/habitat_test_scenes_1.0/van-gogh-room.scene_instance.json\n",
      "I0120 11:35:23.002043 56608128 MetadataMediator.cpp:311] ::getSceneAttributesByName : Dataset : default has no preloaded SceneAttributes or StageAttributes named : ./dI0120 11:35:23.608690 85909 simulator.py:232] Recomputing navmesh for agent's height 0.1 and radius 0.1.\n"
     ]
    },
    {
     "name": "stdout",
     "output_type": "stream",
     "text": [
      "Renderer: Apple M1 by Apple\n",
      "OpenGL version: 4.1 Metal - 76.1\n",
      "Using optional features:\n",
      "    GL_ARB_vertex_array_object\n",
      "    GL_ARB_ES2_compatibility\n",
      "    GL_ARB_separate_shader_objects\n",
      "    GL_ARB_texture_storage\n",
      "    GL_EXT_texture_filter_anisotropic\n",
      "    GL_EXT_debug_label\n",
      "    GL_EXT_debug_marker\n",
      "Using driver workarounds:\n",
      "    no-layout-qualifiers-on-old-glsl\n",
      "    apple-buffer-texture-unbind-on-buffer-modify\n"
     ]
    },
    {
     "name": "stderr",
     "output_type": "stream",
     "text": [
      "ata//versioned_data/habitat_test_scenes_1.0/van-gogh-room.glb so loading/creating a new StageAttributes with this name, and then creating a SceneAttributes with the same name that references this stage.\n",
      "I0120 11:35:23.002048 56608128 ManagedFileBasedContainer.h:210] <Stage Template>::convertFilenameToPassedExt : Filename : ./data//versioned_data/habitat_test_scenes_1.0/van-gogh-room.glb changed to proposed stage_config.json filename : ./data//versioned_data/habitat_test_scenes_1.0/van-gogh-room.stage_config.json\n",
      "I0120 11:35:23.002050 56608128 AttributesManagerBase.h:365] <Stage Template>::createFromJsonOrDefaultInternal : Proposing JSON name : ./data//versioned_data/habitat_test_scenes_1.0/van-gogh-room.stage_config.json from original name : ./data//versioned_data/habitat_test_scenes_1.0/van-gogh-room.glb | This file  does not exist.\n",
      "I0120 11:35:23.002092 56608128 AbstractObjectAttributesManagerBase.h:183] File (./data//versioned_data/habitat_test_scenes_1.0/van-gogh-room.glb) exists but is not a recognized config filename extension, so new default Stage Template attributes created and registered.\n",
      "I0120 11:35:23.002106 56608128 SceneDatasetAttributes.cpp:45] ::addNewSceneInstanceToDataset : Dataset : 'default' : Stage Attributes './data//versioned_data/habitat_test_scenes_1.0/van-gogh-room.glb' specified in Scene Attributes exists in dataset library.\n",
      "I0120 11:35:23.002108 56608128 SceneDatasetAttributes.cpp:79] ::addNewSceneInstanceToDataset : Dataset : 'default' : Lighting Layout Attributes 'no_lights' specified in Scene Attributes but does not exist in dataset, so creating.\n",
      "I0120 11:35:23.002110 56608128 ManagedFileBasedContainer.h:210] <Lighting Layout>::convertFilenameToPassedExt : Filename : no_lights changed to proposed lighting_config.json filename : no_lights.lighting_config.json\n",
      "I0120 11:35:23.002113 56608128 ManagedFileBasedContainer.h:210] <Lighting Layout>::convertFilenameToPassedExt : Filename : no_lights changed to proposed lighting_config.json filename : no_lights.lighting_config.json\n",
      "I0120 11:35:23.002115 56608128 AttributesManagerBase.h:365] <Lighting Layout>::createFromJsonOrDefaultInternal : Proposing JSON name : no_lights.lighting_config.json from original name : no_lights | This file  does not exist.\n",
      "I0120 11:35:23.002122 56608128 LightLayoutAttributesManager.cpp:34] File (no_lights) not found, so new default light layout attributes created and registered.\n",
      "I0120 11:35:23.002125 56608128 Simulator.cpp:206] ::setSceneInstanceAttributes : Navmesh file location in scene instance : ./data//versioned_data/habitat_test_scenes_1.0/van-gogh-room.navmesh\n",
      "I0120 11:35:23.002130 56608128 Simulator.cpp:213] ::setSceneInstanceAttributes : Loading navmesh from ./data//versioned_data/habitat_test_scenes_1.0/van-gogh-room.navmesh\n",
      "I0120 11:35:23.002157 56608128 Simulator.cpp:216] ::setSceneInstanceAttributes : Navmesh Loaded.\n",
      "I0120 11:35:23.002163 56608128 SceneGraph.h:85] Created DrawableGroup: \n",
      "I0120 11:35:23.002166 56608128 Simulator.cpp:251] ::setSceneInstanceAttributes : SceneInstance : ./data//versioned_data/habitat_test_scenes_1.0/van-gogh-room.glb proposed Semantic Scene Descriptor filename : ./data//versioned_data/habitat_test_scenes_1.0/van-gogh-room.scn\n",
      "E0120 11:35:23.002168 56608128 SemanticScene.h:155] ::loadSemanticSceneDescriptor : File ./data//versioned_data/habitat_test_scenes_1.0/van-gogh-room.scn does not exist.  Aborting load.\n",
      "W0120 11:35:23.002172 56608128 Simulator.cpp:275] ::setSceneInstanceAttributes : All attempts to load SSD with SceneAttributes-provided name ./data//versioned_data/habitat_test_scenes_1.0/van-gogh-room.scn : exist : 0 : loaded as expected type : 0\n",
      "I0120 11:35:23.003290 56608128 Simulator.cpp:324] ::createSceneInstance : Using scene instance-specified Light key : -no_lights-\n",
      "I0120 11:35:23.003295 56608128 MetadataMediator.cpp:68] ::setSimulatorConfiguration : Set new simulator config for scene/stage : ./data//versioned_data/habitat_test_scenes_1.0/van-gogh-room.glb and dataset : default which is currently active dataset.\n",
      "I0120 11:35:23.003301 56608128 Simulator.cpp:382] ::createSceneInstance : Start to load stage named : ./data//versioned_data/habitat_test_scenes_1.0/van-gogh-room.glb with render asset : ./data//versioned_data/habitat_test_scenes_1.0/van-gogh-room.glb and collision asset : ./data//versioned_data/habitat_test_scenes_1.0/van-gogh-room.glb\n",
      "I0120 11:35:23.003314 56608128 ResourceManager.cpp:257] ::loadStage : Not loading semantic mesh\n",
      "I0120 11:35:23.003315 56608128 ResourceManager.cpp:285] ::loadStage : start load render asset ./data//versioned_data/habitat_test_scenes_1.0/van-gogh-room.glb.\n",
      "I0120 11:35:23.003317 56608128 ResourceManager.cpp:699] ::loadStageInternal : Attempting to load stage ./data//versioned_data/habitat_test_scenes_1.0/van-gogh-room.glb \n",
      "I0120 11:35:23.003327 56608128 ResourceManager.cpp:1296] Importing Basis files as BC3 for van-gogh-room.glb\n",
      "I0120 11:35:23.607479 56608128 Simulator.cpp:400] ::createSceneInstance : Successfully loaded stage named : ./data//versioned_data/habitat_test_scenes_1.0/van-gogh-room.glb\n",
      "W0120 11:35:23.607491 56608128 Simulator.cpp:435] \n",
      "---\n",
      "Simulator::createSceneInstance : The active scene does not contain semantic annotations. \n",
      "---\n",
      "I0120 11:35:23.607496 56608128 MetadataMediator.cpp:262] ::getSceneAttributesByName : Query dataset : default for SceneAttributes named : ./data//versioned_data/habitat_test_scenes_1.0/van-gogh-room.glb yields 1 candidates.  Using ./data//versioned_data/habitat_test_scenes_1.0/van-gogh-room.glb.\n",
      "I0120 11:35:23.607501 56608128 SceneDatasetAttributes.cpp:45] ::addNewSceneInstanceToDataset : Dataset : 'default' : Stage Attributes './data//versioned_data/habitat_test_scenes_1.0/van-gogh-room.glb' specified in Scene Attributes exists in dataset library.\n",
      "I0120 11:35:23.607503 56608128 SceneDatasetAttributes.cpp:85] ::addNewSceneInstanceToDataset : Dataset : 'default' : Lighting Layout Attributes no_lights specified in Scene Attributes exists in dataset library.\n",
      "I0120 11:35:23.607507 56608128 MetadataMediator.cpp:262] ::getSceneAttributesByName : Query dataset : default for SceneAttributes named : ./data//versioned_data/habitat_test_scenes_1.0/van-gogh-room.glb yields 1 candidates.  Using ./data//versioned_data/habitat_test_scenes_1.0/van-gogh-room.glb.\n",
      "I0120 11:35:23.607511 56608128 SceneDatasetAttributes.cpp:45] ::addNewSceneInstanceToDataset : Dataset : 'default' : Stage Attributes './data//versioned_data/habitat_test_scenes_1.0/van-gogh-room.glb' specified in Scene Attributes exists in dataset library.\n",
      "I0120 11:35:23.607511 56608128 SceneDatasetAttributes.cpp:85] ::addNewSceneInstanceToDataset : Dataset : 'default' : Lighting Layout Attributes no_lights specified in Scene Attributes exists in dataset library.\n",
      "I0120 11:35:23.607518 56608128 Simulator.cpp:182] Simulator::reconfigure() : createSceneInstance success == true for active scene name : ./data//versioned_data/habitat_test_scenes_1.0/van-gogh-room.glb with renderer.\n",
      "I0120 11:35:23.609185 56608128 PathFinder.cpp:382] Building navmesh with 135x71 cells\n",
      "I0120 11:35:23.612694 56608128 PathFinder.cpp:652] Created navmesh with 49 vertices 23 polygons\n",
      "I0120 11:35:23.612700 56608128 Simulator.cpp:798] reconstruct navmesh successful\n"
     ]
    }
   ],
   "source": [
    "%load_ext autoreload\n",
    "from picar_env import PiCarEnv\n",
    "%autoreload\n",
    "test = PiCarEnv('./data//versioned_data/habitat_test_scenes_1.0/van-gogh-room.glb')"
   ]
  },
  {
   "cell_type": "code",
   "execution_count": 2,
   "metadata": {},
   "outputs": [],
   "source": [
    "for i in range(100):\n",
    "    test.step(100)\n",
    "# plt.imshow(test.render())"
   ]
  },
  {
   "cell_type": "code",
   "execution_count": 6,
   "metadata": {},
   "outputs": [
    {
     "ename": "NameError",
     "evalue": "name 'movement' is not defined",
     "output_type": "error",
     "traceback": [
      "\u001b[0;31m---------------------------------------------------------------------------\u001b[0m",
      "\u001b[0;31mNameError\u001b[0m                                 Traceback (most recent call last)",
      "\u001b[0;32m/var/folders/cd/q4w8mp8562388jd4t4128z740000gn/T/ipykernel_85909/2857967668.py\u001b[0m in \u001b[0;36m<module>\u001b[0;34m\u001b[0m\n\u001b[1;32m     11\u001b[0m \u001b[0;34m\u001b[0m\u001b[0m\n\u001b[1;32m     12\u001b[0m     \u001b[0;32mif\u001b[0m \u001b[0mreward\u001b[0m \u001b[0;34m<\u001b[0m \u001b[0;36m0\u001b[0m\u001b[0;34m:\u001b[0m\u001b[0;34m\u001b[0m\u001b[0;34m\u001b[0m\u001b[0m\n\u001b[0;32m---> 13\u001b[0;31m         \u001b[0mmovement\u001b[0m \u001b[0;34m=\u001b[0m \u001b[0;34m-\u001b[0m\u001b[0;36m1\u001b[0m \u001b[0;34m*\u001b[0m \u001b[0mmovement\u001b[0m\u001b[0;34m\u001b[0m\u001b[0;34m\u001b[0m\u001b[0m\n\u001b[0m\u001b[1;32m     14\u001b[0m \u001b[0;34m\u001b[0m\u001b[0m\n\u001b[1;32m     15\u001b[0m \u001b[0mvut\u001b[0m\u001b[0;34m.\u001b[0m\u001b[0mmake_video\u001b[0m\u001b[0;34m(\u001b[0m\u001b[0mobservations\u001b[0m\u001b[0;34m,\u001b[0m \u001b[0;34m'color_sensor'\u001b[0m\u001b[0;34m,\u001b[0m \u001b[0;34m'color'\u001b[0m\u001b[0;34m,\u001b[0m \u001b[0;34m'./out.mp4'\u001b[0m\u001b[0;34m,\u001b[0m \u001b[0mfps\u001b[0m\u001b[0;34m=\u001b[0m\u001b[0mFPS\u001b[0m\u001b[0;34m)\u001b[0m\u001b[0;34m\u001b[0m\u001b[0;34m\u001b[0m\u001b[0m\n",
      "\u001b[0;31mNameError\u001b[0m: name 'movement' is not defined"
     ]
    }
   ],
   "source": [
    "observations = []\n",
    "\n",
    "sim_time = 30\n",
    "FPS = 30\n",
    "direction = 1\n",
    "for _ in range(sim_time * FPS):\n",
    "    obs, reward, _, _ = test.step(direction)\n",
    "    # turn(random.choice([-1,1,0]))\n",
    "\n",
    "    observations.append(obs)\n",
    "        \n",
    "    if reward < 0:\n",
    "        direction = -1 * direction\n",
    "        \n",
    "vut.make_video(observations, 'color_sensor', 'color', './out.mp4', fps=FPS)"
   ]
  },
  {
   "cell_type": "code",
   "execution_count": null,
   "metadata": {},
   "outputs": [],
   "source": []
  }
 ],
 "metadata": {
  "accelerator": "GPU",
  "colab": {
   "collapsed_sections": [],
   "name": "ECCV 2020: Navigation",
   "provenance": []
  },
  "jupytext": {
   "cell_metadata_filter": "-all",
   "formats": "nb_python//py:percent,colabs//ipynb",
   "main_language": "python",
   "notebook_metadata_filter": "all"
  },
  "kernelspec": {
   "display_name": "Python 3 (ipykernel)",
   "language": "python",
   "nam
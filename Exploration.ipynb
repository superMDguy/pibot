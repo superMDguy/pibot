{
 "cells": [
  {
   "cell_type": "markdown",
   "metadata": {},
   "source": [
    "# Pi Robot Exploration"
   ]
  },
  {
   "cell_type": "markdown",
   "metadata": {},
   "source": [
    "## Setup"
   ]
  },
  {
   "cell_type": "code",
   "execution_count": 1,
   "metadata": {
    "id": "G9oqm_gUVK-K",
    "lines_to_next_cell": 2
   },
   "outputs": [],
   "source": [
    "import random\n",
    "from tqdm import tqdm\n",
    "import numpy as np\n",
    "import math\n",
    "import os\n",
    "\n",
    "%matplotlib inline\n",
    "from matplotlib import pyplot as plt\n",
    "\n",
    "import magnum as mn\n",
    "from PIL import Image\n",
    "import imageio\n",
    "from IPython.display import Video\n",
    "\n",
    "import habitat_sim\n",
    "from habitat_sim.utils import common as utils\n",
    "from habitat_sim.utils import viz_utils as vut\n",
    "\n",
    "def display_sample(rgb_obs, semantic_obs=np.array([]), depth_obs=np.array([])):\n",
    "    from habitat_sim.utils.common import d3_40_colors_rgb\n",
    "    \n",
    "    \n",
    "\n",
    "    rgb_img = Image.fromarray(rgb_obs, mode=\"RGBA\")\n",
    "\n",
    "    arr = [rgb_img]\n",
    "    titles = [\"rgb\"]\n",
    "\n",
    "    plt.figure(figsize=(12, 8))\n",
    "    for i, data in enumerate(arr):\n",
    "        ax = plt.subplot(1, 3, i + 1)\n",
    "        ax.axis(\"off\")\n",
    "        ax.set_title(titles[i])\n",
    "        plt.imshow(data)\n",
    "    plt.show(block=False)"
   ]
  },
  {
   "cell_type": "markdown",
   "metadata": {},
   "source": [
    "### Actual PiCar Stats\n",
    "- Width: 5\", 0.127m\n",
    "- Length: 7\", 0.178\n",
    "- Height: 4\", 0.1m\n",
    "- Camera: 3\", 0.076m"
   ]
  },
  {
   "cell_type": "code",
   "execution_count": null,
   "metadata": {
    "id": "Ood6xSedVK-N"
   },
   "outputs": [],
   "source": [
    "sim_cfg = habitat_sim.SimulatorConfiguration()\n",
    "sim_cfg.scene_id = './data//versioned_data/replica_cad_baked_lighting_1.0/remake_v0_v3_sc4_staging_05.glb'\n",
    "sim_cfg.enable_physics = True\n",
    "sim_cfg.allow_sliding = False\n",
    "\n",
    "picam = habitat_sim.CameraSensorSpec()\n",
    "picam.uuid = \"color_sensor\"\n",
    "picam.sensor_type = habitat_sim.SensorType.COLOR\n",
    "# TODO: Noise model?\n",
    "picam.resolution = [720, 1280]\n",
    "picam.hfov = 62.2 # https://elinux.org/Rpi_Camera_Module#Technical_Parameters_.28v.2_board.29\n",
    "picam.position = [0.0, 0.076, 0.0] # TODO: maybe change y position since it's not in the center?\n",
    "\n",
    "# agent\n",
    "agent_cfg = habitat_sim.agent.AgentConfiguration()\n",
    "agent_cfg.sensor_specifications = [picam]\n",
    "agent_cfg.height = 0.1\n",
    "agent_cfg.mass = 0.5\n",
    "agent_cfg.linear_acceleration = 1.4\n",
    "\n",
    "\n",
    "picar = habitat_sim.Configuration(sim_cfg, [agent_cfg])"
   ]
  },
  {
   "cell_type": "code",
   "execution_count": null,
   "metadata": {
    "id": "RlclZoloVK-O"
   },
   "outputs": [],
   "source": [
    "try:  # Needed to handle out of order cell run in Colab\n",
    "    sim.close()\n",
    "except NameError:\n",
    "    pass\n",
    "sim = habitat_sim.Simulator(picar)"
   ]
  },
  {
   "cell_type": "code",
   "execution_count": null,
   "metadata": {
    "id": "P4nH0LblVK-P"
   },
   "outputs": [],
   "source": [
    "# initialize an agent\n",
    "agent = sim.initialize_agent(0)\n",
    "\n",
    "# Set agent state\n",
    "agent_state = habitat_sim.AgentState()\n",
    "agent_state.position = np.zeros(3)  # in world space\n",
    "agent.set_state(agent_state)\n",
    "\n",
    "# Get agent state\n",
    "agent_state = agent.get_state()\n",
    "print(\"agent_state: position\", agent_state.position, \"rotation\", agent_state.rotation)"
   ]
  },
  {
   "cell_type": "markdown",
   "metadata": {
    "jp-MarkdownHeadingCollapsed": true,
    "tags": []
   },
   "source": [
    "## Test Moving Around"
   ]
  },
  {
   "cell_type": "code",
   "execution_count": null,
   "metadata": {
    "id": "xN3mjtL1VK-P"
   },
   "outputs": [],
   "source": [
    "# obtain the default, discrete actions that an agent can perform\n",
    "# default action space contains 3 actions: move_forward, turn_left, and turn_right\n",
    "action_names = list(picar.agents[0].action_space.keys())\n",
    "print(\"Discrete action space: \", action_names)\n",
    "\n",
    "\n",
    "def navigateAndSee(action=\"\"):\n",
    "    if action in action_names:\n",
    "        observations = sim.step(action)\n",
    "        print(\"action: \", action)\n",
    "        if display:\n",
    "            display_sample(observations[\"color_sensor\"])"
   ]
  },
  {
   "cell_type": "code",
   "execution_count": null,
   "metadata": {},
   "outputs": [],
   "source": [
    "navigateAndSee('move_forward')"
   ]
  },
  {
   "cell_type": "markdown",
   "metadata": {
    "tags": []
   },
   "source": [
    "## More Sophistication"
   ]
  },
  {
   "cell_type": "markdown",
   "metadata": {},
   "source": [
    "### NavMesh"
   ]
  },
  {
   "cell_type": "code",
   "execution_count": null,
   "metadata": {},
   "outputs": [],
   "source": [
    "navmesh_settings = habitat_sim.NavMeshSettings()\n",
    "\n",
    "navmesh_settings.set_defaults()\n",
    "navmesh_settings.cell_size = 0.01 #@param {type:\"slider\", min:0.01, max:0.2, step:0.01}\n",
    "#default = 0.05\n",
    "navmesh_settings.cell_height = 0.01 #@param {type:\"slider\", min:0.01, max:0.4, step:0.01}\n",
    "#default = 0.2\n",
    "\n",
    "#@markdown **Agent parameters**:\n",
    "navmesh_settings.agent_height = 0.1 #@param {type:\"slider\", min:0.01, max:3.0, step:0.01}\n",
    "#default = 1.5\n",
    "navmesh_settings.agent_radius = 0.1 #@param {type:\"slider\", min:0.01, max:0.5, step:0.01}\n",
    "#default = 0.1\n",
    "navmesh_settings.agent_max_climb = 0.2 #@param {type:\"slider\", min:0.01, max:0.5, step:0.01}\n",
    "#default = 0.2\n",
    "navmesh_settings.agent_max_slope = 45 #@param {type:\"slider\", min:0, max:85, step:1.0}\n",
    "# default = 45.0\n",
    "# fmt: on\n",
    "navmesh_settings.filter_low_hanging_obstacles = True  # @param {type:\"boolean\"}\n",
    "# default = True\n",
    "navmesh_settings.filter_ledge_spans = True  # @param {type:\"boolean\"}\n",
    "# default = True\n",
    "navmesh_settings.filter_walkable_low_height_spans = True  # @param {type:\"boolean\"}\n",
    "# default = True\n",
    "\n",
    "navmesh_settings.region_min_size = 0 #@param {type:\"slider\", min:0, max:50, step:1}\n",
    "#default = 20\n",
    "navmesh_settings.region_merge_size = 0 #@param {type:\"slider\", min:0, max:50, step:1}\n",
    "#default = 20\n",
    "navmesh_settings.edge_max_len = 0 #@param {type:\"slider\", min:0, max:50, step:1}\n",
    "#default = 12.0\n",
    "navmesh_settings.edge_max_error = 0.1 #@param {type:\"slider\", min:0, max:5, step:0.1}\n",
    "#default = 1.3\n",
    "navmesh_settings.verts_per_poly = 6.0 #@param {type:\"slider\", min:3, max:6, step:1}\n",
    "#default = 6.0\n",
    "navmesh_settings.detail_sample_dist = 6.0 #@param {type:\"slider\", min:0, max:10.0, step:0.1}\n",
    "#default = 6.0\n",
    "navmesh_settings.detail_sample_max_error = 1.0 #@param {type:\"slider\", min:0, max:10.0, step:0.1}\n",
    "# default = 1.0\n",
    "# fmt: on\n",
    "\n",
    "navmesh_success = sim.recompute_navmesh(\n",
    "    sim.pathfinder, navmesh_settings, include_static_objects=True\n",
    ")\n",
    "\n",
    "if not navmesh_success:\n",
    "    print(\"Failed to build the navmesh! Try different parameters?\")"
   ]
  },
  {
   "cell_type": "code",
   "execution_count": null,
   "metadata": {},
   "outputs": [],
   "source": [
    "def random_position():\n",
    "    agent_state = sim.agents[0].get_state()\n",
    "    agent_state.position = sim.pathfinder.get_random_navigable_point()\n",
    "    orientation = random.random() * math.pi * 2.0\n",
    "    agent_state.rotation = utils.quat_from_magnum(\n",
    "        mn.Quaternion.rotation(-mn.Rad(orientation), mn.Vector3(0, 1.0, 0))\n",
    "    )\n",
    "\n",
    "    sim.agents[0].set_state(agent_state)"
   ]
  },
  {
   "cell_type": "code",
   "execution_count": null,
   "metadata": {},
   "outputs": [],
   "source": [
    "random_position()\n",
    "plt.imshow(sim.get_sensor_observations()['color_sensor'])"
   ]
  },
  {
   "cell_type": "markdown",
   "metadata": {
    "tags": []
   },
   "source": [
    "## Continuous Navigation"
   ]
  },
  {
   "cell_type": "code",
   "execution_count": null,
   "metadata": {},
   "outputs": [],
   "source": [
    "vel_control = habitat_sim.physics.VelocityControl()\n",
    "vel_control.controlling_lin_vel = True\n",
    "vel_control.lin_vel_is_local = True\n",
    "vel_control.controlling_ang_vel = True\n",
    "vel_control.ang_vel_is_local = True\n",
    "\n",
    "\n",
    "agent = sim.agents[0]\n",
    "\n",
    "ACCEL = 0.1 # m/s^2\n",
    "MAX_VEL = 1.5 # m/s\n",
    "target_linear_vel = 0. # m/s\n",
    "\n",
    "def move_linear(direction):\n",
    "    global target_linear_vel\n",
    "    target_linear_vel= float(direction)\n",
    "    \n",
    "def turn(direction):\n",
    "    vel_control.angular_velocity = np.array([0, float(direction), 0])\n",
    "    \n",
    "def update_position(time_step):\n",
    "    current_vel = vel_control.linear_velocity[2]\n",
    "    \n",
    "    next_step_vel = None\n",
    "    if target_linear_vel > current_vel:\n",
    "        next_step_vel = min(MAX_VEL, current_vel + ACCEL * time_step)\n",
    "    else: \n",
    "        next_step_vel = max(-1 * MAX_VEL, current_vel - ACCEL * time_step)\n",
    "    vel_control.linear_velocity = np.array([0., 0., next_step_vel])\n",
    "    \n",
    "    # TODO: probably just directly integrate acceleration into state??\n",
    "\n",
    "    # Integrate the velocity and apply the transform.\n",
    "    # Note: this can be done at a higher frequency for more accuracy\n",
    "    agent_state = agent.state\n",
    "    previous_rigid_state = habitat_sim.RigidState(\n",
    "        utils.quat_to_magnum(agent_state.rotation), agent_state.position\n",
    "    )\n",
    "\n",
    "    # manually integrate the rigid state\n",
    "    target_rigid_state = vel_control.integrate_transform(\n",
    "        time_step, previous_rigid_state\n",
    "    )\n",
    "\n",
    "    # snap rigid state to navmesh and set state to object/agent\n",
    "    # calls pathfinder.try_step or self.pathfinder.try_step_no_sliding\n",
    "    end_pos = sim.step_filter(\n",
    "        previous_rigid_state.translation, target_rigid_state.translation\n",
    "    )\n",
    "\n",
    "    # set the computed state\n",
    "    agent_state.position = end_pos\n",
    "    agent_state.rotation = utils.quat_from_magnum(\n",
    "        target_rigid_state.rotation\n",
    "    )\n",
    "    agent.set_state(agent_state)\n",
    "\n",
    "    # Check if a collision occured\n",
    "    dist_moved_before_filter = (\n",
    "        target_rigid_state.translation - previous_rigid_state.translation\n",
    "    ).dot()\n",
    "    dist_moved_after_filter = (\n",
    "        end_pos - previous_rigid_state.translation\n",
    "    ).dot()\n",
    "\n",
    "    # NB: There are some cases where ||filter_end - end_pos|| > 0 when a\n",
    "    # collision _didn't_ happen. One such case is going up stairs.  Instead,\n",
    "    # we check to see if the the amount moved after the application of the filter\n",
    "    # is _less_ than the amount moved before the application of the filter\n",
    "    EPS = 1e-5\n",
    "    collided = (dist_moved_after_filter + EPS) < dist_moved_before_filter\n",
    "\n",
    "    # run any dynamics simulation\n",
    "    sim.step_physics(time_step)\n",
    "    \n",
    "    return collided"
   ]
  },
  {
   "cell_type": "code",
   "execution_count": null,
   "metadata": {},
   "outputs": [],
   "source": [
    "observations = []\n",
    "random_position()\n",
    "\n",
    "sim_time = 10\n",
    "control_frequency = 1  # @param {type:\"slider\", min:1, max:30, step:1}\n",
    "frame_skip = 60  # @param {type:\"slider\", min:1, max:30, step:1}\n",
    "\n",
    "\n",
    "fps = control_frequency * frame_skip\n",
    "print(\"fps = \" + str(fps))\n",
    "\n",
    "time_step = 1.0 / (frame_skip * control_frequency)\n",
    "print(\"time_step = \" + str(time_step))\n",
    "movement = 1\n",
    "for _ in range(int(sim_time * control_frequency)):\n",
    "    move_linear(movement)\n",
    "    turn(random.choice([-1,1,0]))\n",
    "\n",
    "    for _frame in range(frame_skip):\n",
    "        collided = update_position(time_step)\n",
    "        observations.append(sim.get_sensor_observations())\n",
    "        \n",
    "        if (collided):\n",
    "            movement = -1 * movement\n",
    "\n",
    "print(\"frames = \" + str(len(observations)))"
   ]
  },
  {
   "cell_type": "code",
   "execution_count": null,
   "metadata": {},
   "outputs": [],
   "source": [
    "vut.make_video(observations, 'color_sensor', 'color', './out.mp4', fps=fps)"
   ]
  },
  {
   "cell_type": "markdown",
   "metadata": {},
   "source": [
    "## Gym Env"
   ]
  },
  {
   "cell_type": "code",
   "execution_count": 49,
   "metadata": {},
   "outputs": [
    {
     "name": "stdout",
     "output_type": "stream",
     "text": [
      "The autoreload extension is already loaded. To reload it, use:\n",
      "  %reload_ext autoreload\n"
     ]
    },
    {
     "name": "stderr",
     "output_type": "stream",
     "text": [
      "I0122 23:28:16.309239 87360896 BulletPhysicsManager.cpp:35] Deconstructing BulletPhysicsManager\n",
      "I0122 23:28:16.310658 87360896 PhysicsManager.cpp:50] Deconstructing PhysicsManager\n",
      "I0122 23:28:16.310675 87360896 SemanticScene.h:43] Deconstructing SemanticScene\n",
      "I0122 23:28:16.310678 87360896 SceneManager.h:25] Deconstructing SceneManager\n",
      "I0122 23:28:16.310681 87360896 SceneGraph.h:25] Deconstructing SceneGraph\n",
      "I0122 23:28:16.310866 87360896 Sensor.cpp:69] Deconstructing Sensor\n",
      "I0122 23:28:16.328969 87360896 Renderer.cpp:71] Deconstructing Renderer\n",
      "I0122 23:28:16.328996 87360896 WindowlessContext.h:17] Deconstructing WindowlessContext\n",
      "I0122 23:28:16.339128 87360896 ManagedFileBasedContainer.h:210] <Dataset>::convertFilenameToPassedExt : Filename : default changed to proposed scene_dataset_config.json filename : default.scene_dataset_config.json\n",
      "I0122 23:28:16.339165 87360896 AttributesManagerBase.h:365] <Dataset>::createFromJsonOrDefaultInternal : Proposing JSON name : default.scene_dataset_config.json from original name : default | This file  does not exist.\n",
      "I0122 23:28:16.339215 87360896 AssetAttributesManager.cpp:120] Asset attributes (capsule3DSolid : capsule3DSolid_hemiRings_4_cylRings_1_segments_12_halfLen_0.75_useTexCoords_false_useTangents_false) created and registered.\n",
      "I0122 23:28:16.339234 87360896 AssetAttributesManager.cpp:120] Asset attributes (capsule3DWireframe : capsule3DWireframe_hemiRings_8_cylRings_1_segments_16_halfLen_1) created and registered.\n",
      "I0122 23:28:16.339253 87360896 AssetAttributesManager.cpp:120] Asset attributes (coneSolid : coneSolid_segments_12_halfLen_1.25_rings_1_useTexCoords_false_useTangents_false_capEnd_true) created and registered.\n",
      "I0122 23:28:16.339263 87360896 AssetAttributesManager.cpp:120] Asset attributes (coneWireframe : coneWireframe_segments_32_halfLen_1.25) created and registered.\n",
      "I0122 23:28:16.339270 87360896 AssetAttributesManager.cpp:120] Asset attributes (cubeSolid : cubeSolid) created and registered.\n",
      "I0122 23:28:16.339275 87360896 AssetAttributesManager.cpp:120] Asset attributes (cubeWireframe : cubeWireframe) created and registered.\n",
      "I0122 23:28:16.339291 87360896 AssetAttributesManager.cpp:120] Asset attributes (cylinderSolid : cylinderSolid_rings_1_segments_12_halfLen_1_useTexCoords_false_useTangents_false_capEnds_true) created and registered.\n",
      "I0122 23:28:16.339304 87360896 AssetAttributesManager.cpp:120] Asset attributes (cylinderWireframe : cylinderWireframe_rings_1_segments_32_halfLen_1) created and registered.\n",
      "I0122 23:28:16.339311 87360896 AssetAttributesManager.cpp:120] Asset attributes (icosphereSolid : icosphereSolid_subdivs_1) created and registered.\n",
      "I0122 23:28:16.339318 87360896 AssetAttributesManager.cpp:120] Asset attributes (icosphereWireframe : icosphereWireframe_subdivs_1) created and registered.\n",
      "I0122 23:28:16.339329 87360896 AssetAtI0122 23:28:18.179388 13237 simulator.py:221] Loaded navmesh ./data//versioned_data/hm3d-1.0/hm3d/example/00337-CFVBbU9Rsyb/CFVBbU9Rsyb.basis.navmesh\n",
      "tributesManager.cpp:120] Asset attributes (uvSphereSolid : uvSphereSolid_rings_8_segments_16_useTexCoords_false_useTangents_false) created and registered.\n",
      "I0122 23:28:16.339339 87360896 AssetAttributesManager.cpp:120] Asset attributes (uvSphereWireframe : uvSphereWireframe_rings_16_segments_32) created and registered.\n",
      "I0122 23:28:16.339344 87360896 AssetAttributesManager.cpp:108] ::constructor : Built default primitive asset templates : 12\n",
      "I0122 23:28:16.339581 87360896 SceneDatasetAttributesManager.cpp:36] File (default) not found, so new default dataset attributes created and registered.\n",
      "I0122 23:28:16.339584 87360896 MetadataMediator.cpp:127] ::createSceneDataset : Dataset default successfully created.\n",
      "I0122 23:28:16.339594 87360896 AttributesManagerBase.h:365] <Physics Manager>::createFromJsonOrDefaultInternal : Proposing JSON name : ./data/default.physics_config.json from original name : ./data/default.physics_config.json | This file  does not exist.\n",
      "I0122 23:28:16.339603 87360896 PhysicsAttributesManager.cpp:26] File (./data/default.physics_config.json) not found, so new default physics manager attributes created and registered.\n",
      "I0122 23:28:16.339607 87360896 MetadataMediator.cpp:212] ::setActiveSceneDatasetName : Previous active dataset  changed to default successfully.\n",
      "I0122 23:28:16.339608 87360896 MetadataMediator.cpp:183] ::setCurrPhysicsAttributesHandle : Old physics manager attributes  changed to ./data/default.physics_config.json successfully.\n",
      "I0122 23:28:16.339612 87360896 MetadataMediator.cpp:68] ::setSimulatorConfiguration : Set new simulator config for scene/stage : ./data//versioned_data/hm3d-1.0/hm3d/example/00337-CFVBbU9Rsyb/CFVBbU9Rsyb.basis.glb and dataset : default which is currently active dataset.\n",
      "I0122 23:28:16.361603 87360896 ManagedFileBasedContainer.h:210] <Scene Instance>::convertFilenameToPassedExt : Filename : ./data//versioned_data/hm3d-1.0/hm3d/example/00337-CFVBbU9Rsyb/CFVBbU9Rsyb.basis.glb changed to proposed scene_instance.json filename : ./data//versioned_data/hm3d-1.0/hm3d/example/00337-CFVBbU9Rsyb/CFVBbU9Rsyb.basis.scene_instance.json\n",
      "I0122 23:28:16.361615 87360896 MetadataMediator.cpp:311] ::getSceneAttributesByName : Dataset : default has no preloaded SceneAttributes or StageAttributes named : ./data//versioned_data/hm3d-1.0/hm3d/example/00337-CFVBbU9Rsyb/CFVBbU9Rsyb.basis.glb so loading/creating a new StageAttributes with this name, and then creating a SceneAttributes with the same name that references this stage.\n",
      "I0122 23:28:16.361619 87360896 ManagedFileBasedContainer.h:210] <Stage Template>::convertFilenameToPassedExt : Filename : ./data//versioned_data/hm3d-1.0/hm3d/example/00337-CFVBbU9Rsyb/CFVBbU9Rsyb.basis.glb changed to proposed stage_config.json filename : ./data//versioned_data/hm3d-1.0/hm3d/example/00337-CFVBbU9Rsyb/CFVBbU9Rsyb.basis.stage_config.json\n",
      "I0122 23:28:16.361622 87360896 AttributesManagerBase.h:365] <Stage Template>::createFromJsonOrDefaultInternal : Proposing JSON name : ./data//vI0122 23:28:18.179920 13237 simulator.py:232] Recomputing navmesh for agent's height 0.1 and radius 0.1.\n"
     ]
    },
    {
     "name": "stdout",
     "output_type": "stream",
     "text": [
      "Renderer: Apple M1 by Apple\n",
      "OpenGL version: 4.1 Metal - 76.1\n",
      "Using optional features:\n",
      "    GL_ARB_vertex_array_object\n",
      "    GL_ARB_ES2_compatibility\n",
      "    GL_ARB_separate_shader_objects\n",
      "    GL_ARB_texture_storage\n",
      "    GL_EXT_texture_filter_anisotropic\n",
      "    GL_EXT_debug_label\n",
      "    GL_EXT_debug_marker\n",
      "Using driver workarounds:\n",
      "    no-layout-qualifiers-on-old-glsl\n",
      "    apple-buffer-texture-unbind-on-buffer-modify\n"
     ]
    },
    {
     "name": "stderr",
     "output_type": "stream",
     "text": [
      "ersioned_data/hm3d-1.0/hm3d/example/00337-CFVBbU9Rsyb/CFVBbU9Rsyb.basis.stage_config.json from original name : ./data//versioned_data/hm3d-1.0/hm3d/example/00337-CFVBbU9Rsyb/CFVBbU9Rsyb.basis.glb | This file  does not exist.\n",
      "I0122 23:28:16.361654 87360896 AbstractObjectAttributesManagerBase.h:183] File (./data//versioned_data/hm3d-1.0/hm3d/example/00337-CFVBbU9Rsyb/CFVBbU9Rsyb.basis.glb) exists but is not a recognized config filename extension, so new default Stage Template attributes created and registered.\n",
      "I0122 23:28:16.361667 87360896 SceneDatasetAttributes.cpp:45] ::addNewSceneInstanceToDataset : Dataset : 'default' : Stage Attributes './data//versioned_data/hm3d-1.0/hm3d/example/00337-CFVBbU9Rsyb/CFVBbU9Rsyb.basis.glb' specified in Scene Attributes exists in dataset library.\n",
      "I0122 23:28:16.361670 87360896 SceneDatasetAttributes.cpp:79] ::addNewSceneInstanceToDataset : Dataset : 'default' : Lighting Layout Attributes 'no_lights' specified in Scene Attributes but does not exist in dataset, so creating.\n",
      "I0122 23:28:16.361671 87360896 ManagedFileBasedContainer.h:210] <Lighting Layout>::convertFilenameToPassedExt : Filename : no_lights changed to proposed lighting_config.json filename : no_lights.lighting_config.json\n",
      "I0122 23:28:16.361680 87360896 ManagedFileBasedContainer.h:210] <Lighting Layout>::convertFilenameToPassedExt : Filename : no_lights changed to proposed lighting_config.json filename : no_lights.lighting_config.json\n",
      "I0122 23:28:16.361681 87360896 AttributesManagerBase.h:365] <Lighting Layout>::createFromJsonOrDefaultInternal : Proposing JSON name : no_lights.lighting_config.json from original name : no_lights | This file  does not exist.\n",
      "I0122 23:28:16.361690 87360896 LightLayoutAttributesManager.cpp:34] File (no_lights) not found, so new default light layout attributes created and registered.\n",
      "I0122 23:28:16.361693 87360896 Simulator.cpp:206] ::setSceneInstanceAttributes : Navmesh file location in scene instance : ./data//versioned_data/hm3d-1.0/hm3d/example/00337-CFVBbU9Rsyb/CFVBbU9Rsyb.basis.navmesh\n",
      "I0122 23:28:16.361697 87360896 Simulator.cpp:213] ::setSceneInstanceAttributes : Loading navmesh from ./data//versioned_data/hm3d-1.0/hm3d/example/00337-CFVBbU9Rsyb/CFVBbU9Rsyb.basis.navmesh\n",
      "I0122 23:28:16.361858 87360896 Simulator.cpp:216] ::setSceneInstanceAttributes : Navmesh Loaded.\n",
      "I0122 23:28:16.361863 87360896 SceneGraph.h:85] Created DrawableGroup: \n",
      "I0122 23:28:16.361865 87360896 Simulator.cpp:251] ::setSceneInstanceAttributes : SceneInstance : ./data//versioned_data/hm3d-1.0/hm3d/example/00337-CFVBbU9Rsyb/CFVBbU9Rsyb.basis.glb proposed Semantic Scene Descriptor filename : ./data//versioned_data/hm3d-1.0/hm3d/example/00337-CFVBbU9Rsyb/CFVBbU9Rsyb.basis.scn\n",
      "E0122 23:28:16.361869 87360896 SemanticScene.h:155] ::loadSemanticSceneDescriptor : File ./data//versioned_data/hm3d-1.0/hm3d/example/00337-CFVBbU9Rsyb/CFVBbU9Rsyb.basis.scn does not exist.  Aborting load.\n",
      "W0122 23:28:16.361873 87360896 Simulator.cpp:275] ::setSceneInstanceAttributes : All attempts to load SSD with SceneAttributes-provided name ./data//versioned_data/hm3d-1.0/hm3d/example/00337-CFVBbU9Rsyb/CFVBbU9Rsyb.basis.scn : exist : 0 : loaded as expected type : 0\n",
      "I0122 23:28:16.362884 87360896 Simulator.cpp:324] ::createSceneInstance : Using scene instance-specified Light key : -no_lights-\n",
      "I0122 23:28:16.362888 87360896 MetadataMediator.cpp:68] ::setSimulatorConfiguration : Set new simulator config for scene/stage : ./data//versioned_data/hm3d-1.0/hm3d/example/00337-CFVBbU9Rsyb/CFVBbU9Rsyb.basis.glb and dataset : default which is currently active dataset.\n",
      "I0122 23:28:16.362895 87360896 Simulator.cpp:382] ::createSceneInstance : Start to load stage named : ./data//versioned_data/hm3d-1.0/hm3d/example/00337-CFVBbU9Rsyb/CFVBbU9Rsyb.basis.glb with render asset : ./data//versioned_data/hm3d-1.0/hm3d/example/00337-CFVBbU9Rsyb/CFVBbU9Rsyb.basis.glb and collision asset : ./data//versioned_data/hm3d-1.0/hm3d/example/00337-CFVBbU9Rsyb/CFVBbU9Rsyb.basis.glb\n",
      "I0122 23:28:16.362901 87360896 ResourceManager.cpp:257] ::loadStage : Not loading semantic mesh\n",
      "I0122 23:28:16.362903 87360896 ResourceManager.cpp:285] ::loadStage : start load render asset ./data//versioned_data/hm3d-1.0/hm3d/example/00337-CFVBbU9Rsyb/CFVBbU9Rsyb.basis.glb.\n",
      "I0122 23:28:16.362905 87360896 ResourceManager.cpp:699] ::loadStageInternal : Attempting to load stage ./data//versioned_data/hm3d-1.0/hm3d/example/00337-CFVBbU9Rsyb/CFVBbU9Rsyb.basis.glb \n",
      "I0122 23:28:16.362912 87360896 ResourceManager.cpp:1296] Importing Basis files as BC3 for CFVBbU9Rsyb.basis.glb\n",
      "I0122 23:28:18.178539 87360896 Simulator.cpp:400] ::createSceneInstance : Successfully loaded stage named : ./data//versioned_data/hm3d-1.0/hm3d/example/00337-CFVBbU9Rsyb/CFVBbU9Rsyb.basis.glb\n",
      "W0122 23:28:18.178557 87360896 Simulator.cpp:435] \n",
      "---\n",
      "Simulator::createSceneInstance : The active scene does not contain semantic annotations. \n",
      "---\n",
      "I0122 23:28:18.178563 87360896 MetadataMediator.cpp:262] ::getSceneAttributesByName : Query dataset : default for SceneAttributes named : ./data//versioned_data/hm3d-1.0/hm3d/example/00337-CFVBbU9Rsyb/CFVBbU9Rsyb.basis.glb yields 1 candidates.  Using ./data//versioned_data/hm3d-1.0/hm3d/example/00337-CFVBbU9Rsyb/CFVBbU9Rsyb.basis.glb.\n",
      "I0122 23:28:18.178576 87360896 SceneDatasetAttributes.cpp:45] ::addNewSceneInstanceToDataset : Dataset : 'default' : Stage Attributes './data//versioned_data/hm3d-1.0/hm3d/example/00337-CFVBbU9Rsyb/CFVBbU9Rsyb.basis.glb' specified in Scene Attributes exists in dataset library.\n",
      "I0122 23:28:18.178579 87360896 SceneDatasetAttributes.cpp:85] ::addNewSceneInstanceToDataset : Dataset : 'default' : Lighting Layout Attributes no_lights specified in Scene Attributes exists in dataset library.\n",
      "I0122 23:28:18.178582 87360896 MetadataMediator.cpp:262] ::getSceneAttributesByName : Query dataset : default for SceneAttributes named : ./data//versioned_data/hm3d-1.0/hm3d/example/00337-CFVBbU9Rsyb/CFVBbU9Rsyb.basis.glb yields 1 candidates.  Using ./data//versioned_data/hm3d-1.0/hm3d/example/00337-CFVBbU9Rsyb/CFVBbU9Rsyb.basis.glb.\n",
      "I0122 23:28:18.178586 87360896 SceneDatasetAttributes.cpp:45] ::addNewSceneInstanceToDataset : Dataset : 'default' : Stage Attributes './data//versioned_data/hm3d-1.0/hm3d/example/00337-CFVBbU9Rsyb/CFVBbU9Rsyb.basis.glb' specified in Scene Attributes exists in dataset library.\n",
      "I0122 23:28:18.178587 87360896 SceneDatasetAttributes.cpp:85] ::addNewSceneInstanceToDataset : Dataset : 'default' : Lighting Layout Attributes no_lights specified in Scene Attributes exists in dataset library.\n",
      "I0122 23:28:18.178620 87360896 Simulator.cpp:182] Simulator::reconfigure() : createSceneInstance success == true for active scene name : ./data//versioned_data/hm3d-1.0/hm3d/example/00337-CFVBbU9Rsyb/CFVBbU9Rsyb.basis.glb with renderer.\n",
      "I0122 23:28:18.190582 87360896 PathFinder.cpp:382] Building navmesh with 350x305 cells\n",
      "I0122 23:28:18.348583 87360896 PathFinder.cpp:652] Created navmesh with 1473 vertices 715 polygons\n",
      "I0122 23:28:18.348768 87360896 Simulator.cpp:798] reconstruct navmesh successful\n",
      "I0122 23:28:18.372084 87360896 Simulator.cpp:54] Deconstructing Simulator\n"
     ]
    }
   ],
   "source": [
    "%load_ext autoreload\n",
    "from picar_env import PiCarEnv\n",
    "%autoreload\n",
    "try:\n",
    "    test.close()\n",
    "except NameError:\n",
    "    pass\n",
    "test = PiCarEnv('./data//versioned_data/hm3d-1.0/hm3d/example/00337-CFVBbU9Rsyb/CFVBbU9Rsyb.basis.glb')"
   ]
  },
  {
   "cell_type": "markdown",
   "metadata": {},
   "source": [
    "### Random Baseline"
   ]
  },
  {
   "cell_type": "code",
   "execution_count": 53,
   "metadata": {},
   "outputs": [
    {
     "name": "stderr",
     "output_type": "stream",
     "text": [
      "100%|████████████████████████████████████████████████████████████████████████████████████████████████████████████████████████████████████████████████████████████████████| 300/300 [00:01<00:00, 199.87it/s]\n"
     ]
    }
   ],
   "source": [
    "test.reset()\n",
    "\n",
    "observations = []\n",
    "rewards = []\n",
    "\n",
    "sim_time = 30\n",
    "FPS = 30\n",
    "direction = 1\n",
    "for i in tqdm(range(sim_time * 10)):\n",
    "    controls = np.random.rand(2,) * 2 - 1\n",
    "        \n",
    "    obs, reward, _, _ = test.step(controls)\n",
    "    observations.append(obs)\n",
    "    rewards.append(reward)"
   ]
  },
  {
   "cell_type": "code",
   "execution_count": 54,
   "metadata": {},
   "outputs": [
    {
     "name": "stdout",
     "output_type": "stream",
     "text": [
      "REWARD\n",
      "Mean: 0.0030482998242530356\n",
      "Std 0.002943935637300123\n"
     ]
    },
    {
     "name": "stderr",
     "output_type": "stream",
     "text": [
      "100%|████████████████████████████████████████████████████████████████████████████████████████████████████████████████████████████████████████████████████████████████████| 300/300 [00:01<00:00, 293.46it/s]\n"
     ]
    },
    {
     "data": {
      "text/html": [
       "<video src=\"./random.mp4\" controls  >\n",
       "      Your browser does not support the <code>video</code> element.\n",
       "    </video>"
      ],
      "text/plain": [
       "<IPython.core.display.Video object>"
      ]
     },
     "execution_count": 54,
     "metadata": {},
     "output_type": "execute_result"
    }
   ],
   "source": [
    "print('REWARD')\n",
    "print('Mean:', np.mean(rewards))\n",
    "print('Std', np.std(rewards))\n",
    "\n",
    "with imageio.get_writer('./random.mp4', mode='I', fps=FPS) as writer:\n",
    "    for obs in tqdm(observations):\n",
    "        writer.append_data(obs)\n",
    "Video('./random.mp4')"
   ]
  },
  {
   "cell_type": "markdown",
   "metadata": {},
   "source": [
    "### Naive Baseline"
   ]
  },
  {
   "cell_type": "code",
   "execution_count": 55,
   "metadata": {},
   "outputs": [
    {
     "name": "stderr",
     "output_type": "stream",
     "text": [
      "100%|████████████████████████████████████████████████████████████████████████████████████████████████████████████████████████████████████████████████████████████████████| 300/300 [00:01<00:00, 223.69it/s]\n"
     ]
    }
   ],
   "source": [
    "test.reset()\n",
    "\n",
    "observations = []\n",
    "rewards = [0]\n",
    "\n",
    "sim_time = 30\n",
    "FPS = 30\n",
    "direction = 1\n",
    "for i in tqdm(range(sim_time * 10)):\n",
    "    if i % 30 == 0: \n",
    "        if rewards[-1] < 0:\n",
    "            direction = -1 * direction\n",
    "    controls = np.array([float(direction), random.random()*2-1])\n",
    "        \n",
    "    obs, reward, _, _ = test.step(controls)\n",
    "    observations.append(obs)\n",
    "    rewards.append(reward)"
   ]
  },
  {
   "cell_type": "code",
   "execution_count": 56,
   "metadata": {},
   "outputs": [
    {
     "name": "stdout",
     "output_type": "stream",
     "text": [
      "REWARD\n",
      "Mean: -3.4542872832369955\n",
      "Std 5.089864992422782\n"
     ]
    },
    {
     "name": "stderr",
     "output_type": "stream",
     "text": [
      "100%|████████████████████████████████████████████████████████████████████████████████████████████████████████████████████████████████████████████████████████████████████| 300/300 [00:01<00:00, 282.06it/s]\n"
     ]
    },
    {
     "data": {
      "text/html": [
       "<video src=\"./naive.mp4\" controls  >\n",
       "      Your browser does not support the <code>video</code> element.\n",
       "    </video>"
      ],
      "text/plain": [
       "<IPython.core.display.Video object>"
      ]
     },
     "execution_count": 56,
     "metadata": {},
     "output_type": "execute_result"
    }
   ],
   "source": [
    "print('REWARD')\n",
    "print('Mean:', np.mean(rewards))\n",
    "print('Std', np.std(rewards))\n",
    "\n",
    "with imageio.get_writer('./naive.mp4', mode='I', fps=FPS) as writer:\n",
    "    for obs in tqdm(observations):\n",
    "        writer.append_data(obs)\n",
    "Video('./naive.mp4')"
   ]
  },
  {
   "cell_type": "markdown",
   "metadata": {},
   "source": [
    "## Learning"
   ]
  },
  {
   "cell_type": "code",
   "execution_count": 59,
   "metadata": {},
   "outputs": [
    {
     "name": "stderr",
     "output_type": "stream",
     "text": [
      "/Users/supermdguy/miniforge3/envs/habitat/lib/python3.9/site-packages/stable_baselines3/common/buffers.py:220: UserWarning: This system does not have apparently enough memory to store the complete replay buffer 1413.14GB > 2.93GB\n",
      "  warnings.warn(\n"
     ]
    },
    {
     "ename": "KeyboardInterrupt",
     "evalue": "",
     "output_type": "error",
     "traceback": [
      "\u001b[0;31m---------------------------------------------------------------------------\u001b[0m",
      "\u001b[0;31mKeyboardInterrupt\u001b[0m                         Traceback (most recent call last)",
      "\u001b[0;32m/var/folders/cd/q4w8mp8562388jd4t4128z740000gn/T/ipykernel_13237/875108487.py\u001b[0m in \u001b[0;36m<module>\u001b[0;34m\u001b[0m\n\u001b[1;32m      2\u001b[0m \u001b[0mmodel\u001b[0m \u001b[0;34m=\u001b[0m \u001b[0mSAC\u001b[0m\u001b[0;34m(\u001b[0m\u001b[0;34m'CnnPolicy'\u001b[0m\u001b[0;34m,\u001b[0m \u001b[0mtest\u001b[0m\u001b[0;34m,\u001b[0m \u001b[0mtensorboard_log\u001b[0m\u001b[0;34m=\u001b[0m\u001b[0;34m\"tensorboard\"\u001b[0m\u001b[0;34m)\u001b[0m\u001b[0;34m\u001b[0m\u001b[0;34m\u001b[0m\u001b[0m\n\u001b[1;32m      3\u001b[0m \u001b[0;32mfor\u001b[0m \u001b[0mi\u001b[0m \u001b[0;32min\u001b[0m \u001b[0mrange\u001b[0m\u001b[0;34m(\u001b[0m\u001b[0;36m20\u001b[0m\u001b[0;34m)\u001b[0m\u001b[0;34m:\u001b[0m \u001b[0;31m# 10 minutes of world time\u001b[0m\u001b[0;34m\u001b[0m\u001b[0;34m\u001b[0m\u001b[0m\n\u001b[0;32m----> 4\u001b[0;31m     \u001b[0mmodel\u001b[0m\u001b[0;34m.\u001b[0m\u001b[0mlearn\u001b[0m\u001b[0;34m(\u001b[0m\u001b[0mtotal_timesteps\u001b[0m\u001b[0;34m=\u001b[0m\u001b[0;36m30\u001b[0m \u001b[0;34m*\u001b[0m \u001b[0;36m30\u001b[0m\u001b[0;34m,\u001b[0m \u001b[0mlog_interval\u001b[0m\u001b[0;34m=\u001b[0m\u001b[0;36m10\u001b[0m\u001b[0;34m)\u001b[0m \u001b[0;31m# 30 \"seconds\"\u001b[0m\u001b[0;34m\u001b[0m\u001b[0;34m\u001b[0m\u001b[0m\n\u001b[0m\u001b[1;32m      5\u001b[0m     \u001b[0mtest\u001b[0m\u001b[0;34m.\u001b[0m\u001b[0mreset\u001b[0m\u001b[0;34m(\u001b[0m\u001b[0;34m)\u001b[0m\u001b[0;34m\u001b[0m\u001b[0;34m\u001b[0m\u001b[0m\n",
      "\u001b[0;32m~/miniforge3/envs/habitat/lib/python3.9/site-packages/stable_baselines3/sac/sac.py\u001b[0m in \u001b[0;36mlearn\u001b[0;34m(self, total_timesteps, callback, log_interval, eval_env, eval_freq, n_eval_episodes, tb_log_name, eval_log_path, reset_num_timesteps)\u001b[0m\n\u001b[1;32m    290\u001b[0m     ) -> OffPolicyAlgorithm:\n\u001b[1;32m    291\u001b[0m \u001b[0;34m\u001b[0m\u001b[0m\n\u001b[0;32m--> 292\u001b[0;31m         return super(SAC, self).learn(\n\u001b[0m\u001b[1;32m    293\u001b[0m             \u001b[0mtotal_timesteps\u001b[0m\u001b[0;34m=\u001b[0m\u001b[0mtotal_timesteps\u001b[0m\u001b[0;34m,\u001b[0m\u001b[0;34m\u001b[0m\u001b[0;34m\u001b[0m\u001b[0m\n\u001b[1;32m    294\u001b[0m             \u001b[0mcallback\u001b[0m\u001b[0;34m=\u001b[0m\u001b[0mcallback\u001b[0m\u001b[0;34m,\u001b[0m\u001b[0;34m\u001b[0m\u001b[0;34m\u001b[0m\u001b[0m\n",
      "\u001b[0;32m~/miniforge3/envs/habitat/lib/python3.9/site-packages/stable_baselines3/common/off_policy_algorithm.py\u001b[0m in \u001b[0;36mlearn\u001b[0;34m(self, total_timesteps, callback, log_interval, eval_env, eval_freq, n_eval_episodes, tb_log_name, eval_log_path, reset_num_timesteps)\u001b[0m\n\u001b[1;32m    371\u001b[0m                 \u001b[0;31m# Special case when the user passes `gradient_steps=0`\u001b[0m\u001b[0;34m\u001b[0m\u001b[0;34m\u001b[0m\u001b[0m\n\u001b[1;32m    372\u001b[0m                 \u001b[0;32mif\u001b[0m \u001b[0mgradient_steps\u001b[0m \u001b[0;34m>\u001b[0m \u001b[0;36m0\u001b[0m\u001b[0;34m:\u001b[0m\u001b[0;34m\u001b[0m\u001b[0;34m\u001b[0m\u001b[0m\n\u001b[0;32m--> 373\u001b[0;31m                     \u001b[0mself\u001b[0m\u001b[0;34m.\u001b[0m\u001b[0mtrain\u001b[0m\u001b[0;34m(\u001b[0m\u001b[0mbatch_size\u001b[0m\u001b[0;34m=\u001b[0m\u001b[0mself\u001b[0m\u001b[0;34m.\u001b[0m\u001b[0mbatch_size\u001b[0m\u001b[0;34m,\u001b[0m \u001b[0mgradient_steps\u001b[0m\u001b[0;34m=\u001b[0m\u001b[0mgradient_steps\u001b[0m\u001b[0;34m)\u001b[0m\u001b[0;34m\u001b[0m\u001b[0;34m\u001b[0m\u001b[0m\n\u001b[0m\u001b[1;32m    374\u001b[0m \u001b[0;34m\u001b[0m\u001b[0m\n\u001b[1;32m    375\u001b[0m         \u001b[0mcallback\u001b[0m\u001b[0;34m.\u001b[0m\u001b[0mon_training_end\u001b[0m\u001b[0;34m(\u001b[0m\u001b[0;34m)\u001b[0m\u001b[0;34m\u001b[0m\u001b[0;34m\u001b[0m\u001b[0m\n",
      "\u001b[0;32m~/miniforge3/envs/habitat/lib/python3.9/site-packages/stable_baselines3/sac/sac.py\u001b[0m in \u001b[0;36mtrain\u001b[0;34m(self, gradient_steps, batch_size)\u001b[0m\n\u001b[1;32m    229\u001b[0m             \u001b[0;32mwith\u001b[0m \u001b[0mth\u001b[0m\u001b[0;34m.\u001b[0m\u001b[0mno_grad\u001b[0m\u001b[0;34m(\u001b[0m\u001b[0;34m)\u001b[0m\u001b[0;34m:\u001b[0m\u001b[0;34m\u001b[0m\u001b[0;34m\u001b[0m\u001b[0m\n\u001b[1;32m    230\u001b[0m                 \u001b[0;31m# Select action according to policy\u001b[0m\u001b[0;34m\u001b[0m\u001b[0;34m\u001b[0m\u001b[0m\n\u001b[0;32m--> 231\u001b[0;31m                 \u001b[0mnext_actions\u001b[0m\u001b[0;34m,\u001b[0m \u001b[0mnext_log_prob\u001b[0m \u001b[0;34m=\u001b[0m \u001b[0mself\u001b[0m\u001b[0;34m.\u001b[0m\u001b[0mactor\u001b[0m\u001b[0;34m.\u001b[0m\u001b[0maction_log_prob\u001b[0m\u001b[0;34m(\u001b[0m\u001b[0mreplay_data\u001b[0m\u001b[0;34m.\u001b[0m\u001b[0mnext_observations\u001b[0m\u001b[0;34m)\u001b[0m\u001b[0;34m\u001b[0m\u001b[0;34m\u001b[0m\u001b[0m\n\u001b[0m\u001b[1;32m    232\u001b[0m                 \u001b[0;31m# Compute the next Q values: min over all critics targets\u001b[0m\u001b[0;34m\u001b[0m\u001b[0;34m\u001b[0m\u001b[0m\n\u001b[1;32m    233\u001b[0m                 \u001b[0mnext_q_values\u001b[0m \u001b[0;34m=\u001b[0m \u001b[0mth\u001b[0m\u001b[0;34m.\u001b[0m\u001b[0mcat\u001b[0m\u001b[0;34m(\u001b[0m\u001b[0mself\u001b[0m\u001b[0;34m.\u001b[0m\u001b[0mcritic_target\u001b[0m\u001b[0;34m(\u001b[0m\u001b[0mreplay_data\u001b[0m\u001b[0;34m.\u001b[0m\u001b[0mnext_observations\u001b[0m\u001b[0;34m,\u001b[0m \u001b[0mnext_actions\u001b[0m\u001b[0;34m)\u001b[0m\u001b[0;34m,\u001b[0m \u001b[0mdim\u001b[0m\u001b[0;34m=\u001b[0m\u001b[0;36m1\u001b[0m\u001b[0;34m)\u001b[0m\u001b[0;34m\u001b[0m\u001b[0;34m\u001b[0m\u001b[0m\n",
      "\u001b[0;32m~/miniforge3/envs/habitat/lib/python3.9/site-packages/stable_baselines3/sac/policies.py\u001b[0m in \u001b[0;36maction_log_prob\u001b[0;34m(self, obs)\u001b[0m\n\u001b[1;32m    178\u001b[0m \u001b[0;34m\u001b[0m\u001b[0m\n\u001b[1;32m    179\u001b[0m     \u001b[0;32mdef\u001b[0m \u001b[0maction_log_prob\u001b[0m\u001b[0;34m(\u001b[0m\u001b[0mself\u001b[0m\u001b[0;34m,\u001b[0m \u001b[0mobs\u001b[0m\u001b[0;34m:\u001b[0m \u001b[0mth\u001b[0m\u001b[0;34m.\u001b[0m\u001b[0mTensor\u001b[0m\u001b[0;34m)\u001b[0m \u001b[0;34m->\u001b[0m \u001b[0mTuple\u001b[0m\u001b[0;34m[\u001b[0m\u001b[0mth\u001b[0m\u001b[0;34m.\u001b[0m\u001b[0mTensor\u001b[0m\u001b[0;34m,\u001b[0m \u001b[0mth\u001b[0m\u001b[0;34m.\u001b[0m\u001b[0mTensor\u001b[0m\u001b[0;34m]\u001b[0m\u001b[0;34m:\u001b[0m\u001b[0;34m\u001b[0m\u001b[0;34m\u001b[0m\u001b[0m\n\u001b[0;32m--> 180\u001b[0;31m         \u001b[0mmean_actions\u001b[0m\u001b[0;34m,\u001b[0m \u001b[0mlog_std\u001b[0m\u001b[0;34m,\u001b[0m \u001b[0mkwargs\u001b[0m \u001b[0;34m=\u001b[0m \u001b[0mself\u001b[0m\u001b[0;34m.\u001b[0m\u001b[0mget_action_dist_params\u001b[0m\u001b[0;34m(\u001b[0m\u001b[0mobs\u001b[0m\u001b[0;34m)\u001b[0m\u001b[0;34m\u001b[0m\u001b[0;34m\u001b[0m\u001b[0m\n\u001b[0m\u001b[1;32m    181\u001b[0m         \u001b[0;31m# return action and associated log prob\u001b[0m\u001b[0;34m\u001b[0m\u001b[0;34m\u001b[0m\u001b[0m\n\u001b[1;32m    182\u001b[0m         \u001b[0;32mreturn\u001b[0m \u001b[0mself\u001b[0m\u001b[0;34m.\u001b[0m\u001b[0maction_dist\u001b[0m\u001b[0;34m.\u001b[0m\u001b[0mlog_prob_from_params\u001b[0m\u001b[0;34m(\u001b[0m\u001b[0mmean_actions\u001b[0m\u001b[0;34m,\u001b[0m \u001b[0mlog_std\u001b[0m\u001b[0;34m,\u001b[0m \u001b[0;34m**\u001b[0m\u001b[0mkwargs\u001b[0m\u001b[0;34m)\u001b[0m\u001b[0;34m\u001b[0m\u001b[0;34m\u001b[0m\u001b[0m\n",
      "\u001b[0;32m~/miniforge3/envs/habitat/lib/python3.9/site-packages/stable_baselines3/sac/policies.py\u001b[0m in \u001b[0;36mget_action_dist_params\u001b[0;34m(self, obs)\u001b[0m\n\u001b[1;32m    160\u001b[0m             \u001b[0mMean\u001b[0m\u001b[0;34m,\u001b[0m \u001b[0mstandard\u001b[0m \u001b[0mdeviation\u001b[0m \u001b[0;32mand\u001b[0m \u001b[0moptional\u001b[0m \u001b[0mkeyword\u001b[0m \u001b[0marguments\u001b[0m\u001b[0;34m.\u001b[0m\u001b[0;34m\u001b[0m\u001b[0;34m\u001b[0m\u001b[0m\n\u001b[1;32m    161\u001b[0m         \"\"\"\n\u001b[0;32m--> 162\u001b[0;31m         \u001b[0mfeatures\u001b[0m \u001b[0;34m=\u001b[0m \u001b[0mself\u001b[0m\u001b[0;34m.\u001b[0m\u001b[0mextract_features\u001b[0m\u001b[0;34m(\u001b[0m\u001b[0mobs\u001b[0m\u001b[0;34m)\u001b[0m\u001b[0;34m\u001b[0m\u001b[0;34m\u001b[0m\u001b[0m\n\u001b[0m\u001b[1;32m    163\u001b[0m         \u001b[0mlatent_pi\u001b[0m \u001b[0;34m=\u001b[0m \u001b[0mself\u001b[0m\u001b[0;34m.\u001b[0m\u001b[0mlatent_pi\u001b[0m\u001b[0;34m(\u001b[0m\u001b[0mfeatures\u001b[0m\u001b[0;34m)\u001b[0m\u001b[0;34m\u001b[0m\u001b[0;34m\u001b[0m\u001b[0m\n\u001b[1;32m    164\u001b[0m         \u001b[0mmean_actions\u001b[0m \u001b[0;34m=\u001b[0m \u001b[0mself\u001b[0m\u001b[0;34m.\u001b[0m\u001b[0mmu\u001b[0m\u001b[0;34m(\u001b[0m\u001b[0mlatent_pi\u001b[0m\u001b[0;34m)\u001b[0m\u001b[0;34m\u001b[0m\u001b[0;34m\u001b[0m\u001b[0m\n",
      "\u001b[0;32m~/miniforge3/envs/habitat/lib/python3.9/site-packages/stable_baselines3/common/policies.py\u001b[0m in \u001b[0;36mextract_features\u001b[0;34m(self, obs)\u001b[0m\n\u001b[1;32m    127\u001b[0m         \u001b[0;32massert\u001b[0m \u001b[0mself\u001b[0m\u001b[0;34m.\u001b[0m\u001b[0mfeatures_extractor\u001b[0m \u001b[0;32mis\u001b[0m \u001b[0;32mnot\u001b[0m \u001b[0;32mNone\u001b[0m\u001b[0;34m,\u001b[0m \u001b[0;34m\"No features extractor was set\"\u001b[0m\u001b[0;34m\u001b[0m\u001b[0;34m\u001b[0m\u001b[0m\n\u001b[1;32m    128\u001b[0m         \u001b[0mpreprocessed_obs\u001b[0m \u001b[0;34m=\u001b[0m \u001b[0mpreprocess_obs\u001b[0m\u001b[0;34m(\u001b[0m\u001b[0mobs\u001b[0m\u001b[0;34m,\u001b[0m \u001b[0mself\u001b[0m\u001b[0;34m.\u001b[0m\u001b[0mobservation_space\u001b[0m\u001b[0;34m,\u001b[0m \u001b[0mnormalize_images\u001b[0m\u001b[0;34m=\u001b[0m\u001b[0mself\u001b[0m\u001b[0;34m.\u001b[0m\u001b[0mnormalize_images\u001b[0m\u001b[0;34m)\u001b[0m\u001b[0;34m\u001b[0m\u001b[0;34m\u001b[0m\u001b[0m\n\u001b[0;32m--> 129\u001b[0;31m         \u001b[0;32mreturn\u001b[0m \u001b[0mself\u001b[0m\u001b[0;34m.\u001b[0m\u001b[0mfeatures_extractor\u001b[0m\u001b[0;34m(\u001b[0m\u001b[0mpreprocessed_obs\u001b[0m\u001b[0;34m)\u001b[0m\u001b[0;34m\u001b[0m\u001b[0;34m\u001b[0m\u001b[0m\n\u001b[0m\u001b[1;32m    130\u001b[0m \u001b[0;34m\u001b[0m\u001b[0m\n\u001b[1;32m    131\u001b[0m     \u001b[0;32mdef\u001b[0m \u001b[0m_get_constructor_parameters\u001b[0m\u001b[0;34m(\u001b[0m\u001b[0mself\u001b[0m\u001b[0;34m)\u001b[0m \u001b[0;34m->\u001b[0m \u001b[0mDict\u001b[0m\u001b[0;34m[\u001b[0m\u001b[0mstr\u001b[0m\u001b[0;34m,\u001b[0m \u001b[0mAny\u001b[0m\u001b[0;34m]\u001b[0m\u001b[0;34m:\u001b[0m\u001b[0;34m\u001b[0m\u001b[0;34m\u001b[0m\u001b[0m\n",
      "\u001b[0;32m~/miniforge3/envs/habitat/lib/python3.9/site-packages/torch/nn/modules/module.py\u001b[0m in \u001b[0;36m_call_impl\u001b[0;34m(self, *input, **kwargs)\u001b[0m\n\u001b[1;32m   1100\u001b[0m         if not (self._backward_hooks or self._forward_hooks or self._forward_pre_hooks or _global_backward_hooks\n\u001b[1;32m   1101\u001b[0m                 or _global_forward_hooks or _global_forward_pre_hooks):\n\u001b[0;32m-> 1102\u001b[0;31m             \u001b[0;32mreturn\u001b[0m \u001b[0mforward_call\u001b[0m\u001b[0;34m(\u001b[0m\u001b[0;34m*\u001b[0m\u001b[0minput\u001b[0m\u001b[0;34m,\u001b[0m \u001b[0;34m**\u001b[0m\u001b[0mkwargs\u001b[0m\u001b[0;34m)\u001b[0m\u001b[0;34m\u001b[0m\u001b[0;34m\u001b[0m\u001b[0m\n\u001b[0m\u001b[1;32m   1103\u001b[0m         \u001b[0;31m# Do not call functions when jit is used\u001b[0m\u001b[0;34m\u001b[0m\u001b[0;34m\u001b[0m\u001b[0m\n\u001b[1;32m   1104\u001b[0m         \u001b[0mfull_backward_hooks\u001b[0m\u001b[0;34m,\u001b[0m \u001b[0mnon_full_backward_hooks\u001b[0m \u001b[0;34m=\u001b[0m \u001b[0;34m[\u001b[0m\u001b[0;34m]\u001b[0m\u001b[0;34m,\u001b[0m \u001b[0;34m[\u001b[0m\u001b[0;34m]\u001b[0m\u001b[0;34m\u001b[0m\u001b[0;34m\u001b[0m\u001b[0m\n",
      "\u001b[0;32m~/miniforge3/envs/habitat/lib/python3.9/site-packages/stable_baselines3/common/torch_layers.py\u001b[0m in \u001b[0;36mforward\u001b[0;34m(self, observations)\u001b[0m\n\u001b[1;32m     91\u001b[0m \u001b[0;34m\u001b[0m\u001b[0m\n\u001b[1;32m     92\u001b[0m     \u001b[0;32mdef\u001b[0m \u001b[0mforward\u001b[0m\u001b[0;34m(\u001b[0m\u001b[0mself\u001b[0m\u001b[0;34m,\u001b[0m \u001b[0mobservations\u001b[0m\u001b[0;34m:\u001b[0m \u001b[0mth\u001b[0m\u001b[0;34m.\u001b[0m\u001b[0mTensor\u001b[0m\u001b[0;34m)\u001b[0m \u001b[0;34m->\u001b[0m \u001b[0mth\u001b[0m\u001b[0;34m.\u001b[0m\u001b[0mTensor\u001b[0m\u001b[0;34m:\u001b[0m\u001b[0;34m\u001b[0m\u001b[0;34m\u001b[0m\u001b[0m\n\u001b[0;32m---> 93\u001b[0;31m         \u001b[0;32mreturn\u001b[0m \u001b[0mself\u001b[0m\u001b[0;34m.\u001b[0m\u001b[0mlinear\u001b[0m\u001b[0;34m(\u001b[0m\u001b[0mself\u001b[0m\u001b[0;34m.\u001b[0m\u001b[0mcnn\u001b[0m\u001b[0;34m(\u001b[0m\u001b[0mobservations\u001b[0m\u001b[0;34m)\u001b[0m\u001b[0;34m)\u001b[0m\u001b[0;34m\u001b[0m\u001b[0;34m\u001b[0m\u001b[0m\n\u001b[0m\u001b[1;32m     94\u001b[0m \u001b[0;34m\u001b[0m\u001b[0m\n\u001b[1;32m     95\u001b[0m \u001b[0;34m\u001b[0m\u001b[0m\n",
      "\u001b[0;32m~/miniforge3/envs/habitat/lib/python3.9/site-packages/torch/nn/modules/module.py\u001b[0m in \u001b[0;36m_call_impl\u001b[0;34m(self, *input, **kwargs)\u001b[0m\n\u001b[1;32m   1100\u001b[0m         if not (self._backward_hooks or self._forward_hooks or self._forward_pre_hooks or _global_backward_hooks\n\u001b[1;32m   1101\u001b[0m                 or _global_forward_hooks or _global_forward_pre_hooks):\n\u001b[0;32m-> 1102\u001b[0;31m             \u001b[0;32mreturn\u001b[0m \u001b[0mforward_call\u001b[0m\u001b[0;34m(\u001b[0m\u001b[0;34m*\u001b[0m\u001b[0minput\u001b[0m\u001b[0;34m,\u001b[0m \u001b[0;34m**\u001b[0m\u001b[0mkwargs\u001b[0m\u001b[0;34m)\u001b[0m\u001b[0;34m\u001b[0m\u001b[0;34m\u001b[0m\u001b[0m\n\u001b[0m\u001b[1;32m   1103\u001b[0m         \u001b[0;31m# Do not call functions when jit is used\u001b[0m\u001b[0;34m\u001b[0m\u001b[0;34m\u001b[0m\u001b[0m\n\u001b[1;32m   1104\u001b[0m         \u001b[0mfull_backward_hooks\u001b[0m\u001b[0;34m,\u001b[0m \u001b[0mnon_full_backward_hooks\u001b[0m \u001b[0;34m=\u001b[0m \u001b[0;34m[\u001b[0m\u001b[0;34m]\u001b[0m\u001b[0;34m,\u001b[0m \u001b[0;34m[\u001b[0m\u001b[0;34m]\u001b[0m\u001b[0;34m\u001b[0m\u001b[0;34m\u001b[0m\u001b[0m\n",
      "\u001b[0;32m~/miniforge3/envs/habitat/lib/python3.9/site-packages/torch/nn/modules/container.py\u001b[0m in \u001b[0;36mforward\u001b[0;34m(self, input)\u001b[0m\n\u001b[1;32m    139\u001b[0m     \u001b[0;32mdef\u001b[0m \u001b[0mforward\u001b[0m\u001b[0;34m(\u001b[0m\u001b[0mself\u001b[0m\u001b[0;34m,\u001b[0m \u001b[0minput\u001b[0m\u001b[0;34m)\u001b[0m\u001b[0;34m:\u001b[0m\u001b[0;34m\u001b[0m\u001b[0;34m\u001b[0m\u001b[0m\n\u001b[1;32m    140\u001b[0m         \u001b[0;32mfor\u001b[0m \u001b[0mmodule\u001b[0m \u001b[0;32min\u001b[0m \u001b[0mself\u001b[0m\u001b[0;34m:\u001b[0m\u001b[0;34m\u001b[0m\u001b[0;34m\u001b[0m\u001b[0m\n\u001b[0;32m--> 141\u001b[0;31m             \u001b[0minput\u001b[0m \u001b[0;34m=\u001b[0m \u001b[0mmodule\u001b[0m\u001b[0;34m(\u001b[0m\u001b[0minput\u001b[0m\u001b[0;34m)\u001b[0m\u001b[0;34m\u001b[0m\u001b[0;34m\u001b[0m\u001b[0m\n\u001b[0m\u001b[1;32m    142\u001b[0m         \u001b[0;32mreturn\u001b[0m \u001b[0minput\u001b[0m\u001b[0;34m\u001b[0m\u001b[0;34m\u001b[0m\u001b[0m\n\u001b[1;32m    143\u001b[0m \u001b[0;34m\u001b[0m\u001b[0m\n",
      "\u001b[0;32m~/miniforge3/envs/habitat/lib/python3.9/site-packages/torch/nn/modules/module.py\u001b[0m in \u001b[0;36m_call_impl\u001b[0;34m(self, *input, **kwargs)\u001b[0m\n\u001b[1;32m   1100\u001b[0m         if not (self._backward_hooks or self._forward_hooks or self._forward_pre_hooks or _global_backward_hooks\n\u001b[1;32m   1101\u001b[0m                 or _global_forward_hooks or _global_forward_pre_hooks):\n\u001b[0;32m-> 1102\u001b[0;31m             \u001b[0;32mreturn\u001b[0m \u001b[0mforward_call\u001b[0m\u001b[0;34m(\u001b[0m\u001b[0;34m*\u001b[0m\u001b[0minput\u001b[0m\u001b[0;34m,\u001b[0m \u001b[0;34m**\u001b[0m\u001b[0mkwargs\u001b[0m\u001b[0;34m)\u001b[0m\u001b[0;34m\u001b[0m\u001b[0;34m\u001b[0m\u001b[0m\n\u001b[0m\u001b[1;32m   1103\u001b[0m         \u001b[0;31m# Do not call functions when jit is used\u001b[0m\u001b[0;34m\u001b[0m\u001b[0;34m\u001b[0m\u001b[0m\n\u001b[1;32m   1104\u001b[0m         \u001b[0mfull_backward_hooks\u001b[0m\u001b[0;34m,\u001b[0m \u001b[0mnon_full_backward_hooks\u001b[0m \u001b[0;34m=\u001b[0m \u001b[0;34m[\u001b[0m\u001b[0;34m]\u001b[0m\u001b[0;34m,\u001b[0m \u001b[0;34m[\u001b[0m\u001b[0;34m]\u001b[0m\u001b[0;34m\u001b[0m\u001b[0;34m\u001b[0m\u001b[0m\n",
      "\u001b[0;32m~/miniforge3/envs/habitat/lib/python3.9/site-packages/torch/nn/modules/conv.py\u001b[0m in \u001b[0;36mforward\u001b[0;34m(self, input)\u001b[0m\n\u001b[1;32m    444\u001b[0m \u001b[0;34m\u001b[0m\u001b[0m\n\u001b[1;32m    445\u001b[0m     \u001b[0;32mdef\u001b[0m \u001b[0mforward\u001b[0m\u001b[0;34m(\u001b[0m\u001b[0mself\u001b[0m\u001b[0;34m,\u001b[0m \u001b[0minput\u001b[0m\u001b[0;34m:\u001b[0m \u001b[0mTensor\u001b[0m\u001b[0;34m)\u001b[0m \u001b[0;34m->\u001b[0m \u001b[0mTensor\u001b[0m\u001b[0;34m:\u001b[0m\u001b[0;34m\u001b[0m\u001b[0;34m\u001b[0m\u001b[0m\n\u001b[0;32m--> 446\u001b[0;31m         \u001b[0;32mreturn\u001b[0m \u001b[0mself\u001b[0m\u001b[0;34m.\u001b[0m\u001b[0m_conv_forward\u001b[0m\u001b[0;34m(\u001b[0m\u001b[0minput\u001b[0m\u001b[0;34m,\u001b[0m \u001b[0mself\u001b[0m\u001b[0;34m.\u001b[0m\u001b[0mweight\u001b[0m\u001b[0;34m,\u001b[0m \u001b[0mself\u001b[0m\u001b[0;34m.\u001b[0m\u001b[0mbias\u001b[0m\u001b[0;34m)\u001b[0m\u001b[0;34m\u001b[0m\u001b[0;34m\u001b[0m\u001b[0m\n\u001b[0m\u001b[1;32m    447\u001b[0m \u001b[0;34m\u001b[0m\u001b[0m\n\u001b[1;32m    448\u001b[0m \u001b[0;32mclass\u001b[0m \u001b[0mConv3d\u001b[0m\u001b[0;34m(\u001b[0m\u001b[0m_ConvNd\u001b[0m\u001b[0;34m)\u001b[0m\u001b[0;34m:\u001b[0m\u001b[0;34m\u001b[0m\u001b[0;34m\u001b[0m\u001b[0m\n",
      "\u001b[0;32m~/miniforge3/envs/habitat/lib/python3.9/site-packages/torch/nn/modules/conv.py\u001b[0m in \u001b[0;36m_conv_forward\u001b[0;34m(self, input, weight, bias)\u001b[0m\n\u001b[1;32m    440\u001b[0m                             \u001b[0mweight\u001b[0m\u001b[0;34m,\u001b[0m \u001b[0mbias\u001b[0m\u001b[0;34m,\u001b[0m \u001b[0mself\u001b[0m\u001b[0;34m.\u001b[0m\u001b[0mstride\u001b[0m\u001b[0;34m,\u001b[0m\u001b[0;34m\u001b[0m\u001b[0;34m\u001b[0m\u001b[0m\n\u001b[1;32m    441\u001b[0m                             _pair(0), self.dilation, self.groups)\n\u001b[0;32m--> 442\u001b[0;31m         return F.conv2d(input, weight, bias, self.stride,\n\u001b[0m\u001b[1;32m    443\u001b[0m                         self.padding, self.dilation, self.groups)\n\u001b[1;32m    444\u001b[0m \u001b[0;34m\u001b[0m\u001b[0m\n",
      "\u001b[0;31mKeyboardInterrupt\u001b[0m: "
     ]
    }
   ],
   "source": [
    "from stable_baselines3 import SAC\n",
    "model = SAC('CnnPolicy', test, tensorboard_log=\"tensorboard\")\n",
    "for i in range(20): # 10 minutes of world time\n",
    "    model.learn(total_timesteps=30 * 30, log_interval=10) # 30 \"seconds\"\n",
    "    test.reset()"
   ]
  },
  {
   "cell_type": "code",
   "execution_count": null,
   "metadata": {},
   "outputs": [],
   "source": [
    "observations = [test.reset()]\n",
    "rewards = []\n",
    "\n",
    "sim_time = 30\n",
    "FPS = 30\n",
    "controls = None\n",
    "for i in tqdm(range(sim_time * FPS)):\n",
    "    controls = model.predict(observations[-1])[0]\n",
    "        \n",
    "    obs, reward, _, _ = test.step(controls)\n",
    "    observations.append(obs)\n",
    "    rewards.append(reward)\n",
    "       \n",
    "print('RENDERING VIDEO')\n",
    "with imageio.get_writer('./trained.mp4', mode='I', fps=FPS) as writer:\n",
    "    for obs in tqdm(observations):\n",
    "        writer.append_data(obs)\n",
    "Video('./trained.mp4')"
   ]
  },
  {
   "cell_type": "code",
   "execution_count": null,
   "metadata": {},
   "outputs": [],
   "source": [
    "print('REWARD')\n",
    "print(np.mean(rewards))\n",
    "print(np.std(rewards))"
   ]
  },
  {
   "cell_type": "code",
   "execution_count": null,
   "metadata": {},
   "outputs": [],
   "source": [
    "?model.learn"
   ]
  },
  {
   "cell_type": "code",
   "execution_count": null,
   "metadata": {},
   "outputs": [],
   "source": []
  }
 ],
 "metadata": {
  "accelerator": "GPU",
  "colab": {
   "collapsed_sections": [],
   "name": "ECCV 2020: Navigation",
   "provenance": []
  },
  "jupytext": {
   "cell_metadata_filter": "-all",
   "formats": "nb_python//py:percent,colabs//ipynb",
   "main_language": "python",
   "notebook_metadata_filter": "all"
  },
  "kernelspec": {
   "display_name": "Python 3 (ipykernel)",
   "language": "python",
   "name": "python3"
  },
  "language_info": {
   "codemirror_mode": {
    "name": "ipython",
    "version": 3
   },
   "file_extension": ".py",
   "mimetype": "text/x-python",
   "name": "python",
   "nbconvert_exporter": "python",
   "pygments_lexer": "ipython3",
   "version": "3.9.9"
  }
 },
 "nbformat": 4,
 "nbformat_minor": 4
}

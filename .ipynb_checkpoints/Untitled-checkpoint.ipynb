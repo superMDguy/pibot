{
 "cells": [
  {
   "cell_type": "code",
   "execution_count": 13,
   "id": "28097820-740f-44c9-99a4-85f329ccd9c4",
   "metadata": {},
   "outputs": [],
   "source": [
    "import math\n",
    "import os\n",
    "import random\n",
    "import sys\n",
    "\n",
    "import imageio\n",
    "import magnum as mn\n",
    "import numpy as np\n",
    "\n",
    "%matplotlib inline\n",
    "from matplotlib import pyplot as plt\n",
    "\n",
    "# function to display the topdown map\n",
    "from PIL import Image\n",
    "\n",
    "import habitat_sim\n",
    "from habitat_sim.utils import common as utils\n",
    "from habitat_sim.utils import viz_utils as vut\n",
    "\n",
    "data_path = os.path.join(\".\", \"data/\")\n",
    "output_path = os.path.join(\".\", \"nav_output/\")\n",
    "if not os.path.exists(output_path):\n",
    "    os.mkdir(output_path)"
   ]
  },
  {
   "cell_type": "code",
   "execution_count": 9,
   "id": "6713ea79-3dad-4e3b-bb71-4b7d127831c5",
   "metadata": {},
   "outputs": [],
   "source": [
    "# This is the scene we are going to load.\n",
    "# we support a variety of mesh formats, such as .glb, .gltf, .obj, .ply\n",
    "test_scene = \"./data/scene_datasets/mp3d_example/17DRP5sb8fy/17DRP5sb8fy.glb\"\n",
    "\n",
    "sim_settings = {\n",
    "    \"scene\": test_scene,  # Scene path\n",
    "    \"default_agent\": 0,  # Index of the default agent\n",
    "    \"sensor_height\": 1.5,  # Height of sensors in meters, relative to the agent\n",
    "    \"width\": 256,  # Spatial resolution of the observations\n",
    "    \"height\": 256,\n",
    "}"
   ]
  },
  {
   "cell_type": "code",
   "execution_count": 11,
   "id": "e9f05874-f3f8-43af-b5c0-bb29c348416e",
   "metadata": {},
   "outputs": [],
   "source": [
    "def make_simple_cfg(settings):\n",
    "    # simulator backend\n",
    "    sim_cfg = habitat_sim.SimulatorConfiguration()\n",
    "    sim_cfg.scene_id = settings[\"scene\"]\n",
    "\n",
    "    # agent\n",
    "    agent_cfg = habitat_sim.agent.AgentConfiguration()\n",
    "\n",
    "    # In the 1st example, we attach only one sensor,\n",
    "    # a RGB visual sensor, to the agent\n",
    "    rgb_sensor_spec = habitat_sim.CameraSensorSpec()\n",
    "    rgb_sensor_spec.uuid = \"color_sensor\"\n",
    "    rgb_sensor_spec.sensor_type = habitat_sim.SensorType.COLOR\n",
    "    rgb_sensor_spec.resolution = [settings[\"height\"], settings[\"width\"]]\n",
    "    rgb_sensor_spec.position = [0.0, settings[\"sensor_height\"], 0.0]\n",
    "\n",
    "    agent_cfg.sensor_specifications = [rgb_sensor_spec]\n",
    "\n",
    "    return habitat_sim.Configuration(sim_cfg, [agent_cfg])\n",
    "\n",
    "\n",
    "cfg = make_simple_cfg(sim_settings)"
   ]
  },
  {
   "cell_type": "code",
   "execution_count": 12,
   "id": "27a28e56-999e-46e3-b9b5-5ea931ec247f",
   "metadata": {},
   "outputs": [
    {
     "name": "stderr",
     "output_type": "stream",
     "text": [
      "WARNING: Logging before InitGoogleLogging() is written to STDERR\n",
      "I0114 13:35:37.289417 53904768 ManagedFileBasedContainer.h:210] <Dataset>::convertFilenameToPassedExt : Filename : default changed to proposed scene_dataset_config.json filename : default.scene_dataset_config.json\n",
      "I0114 13:35:37.289552 53904768 AttributesManagerBase.h:365] <Dataset>::createFromJsonOrDefaultInternal : Proposing JSON name : default.scene_dataset_config.json from original name : default | This file  does not exist.\n",
      "I0114 13:35:37.289742 53904768 AssetAttributesManager.cpp:120] Asset attributes (capsule3DSolid : capsule3DSolid_hemiRings_4_cylRings_1_segments_12_halfLen_0.75_useTexCoords_false_useTangents_false) created and registered.\n",
      "I0114 13:35:37.289858 53904768 AssetAttributesManager.cpp:120] Asset attributes (capsule3DWireframe : capsule3DWireframe_hemiRings_8_cylRings_1_segments_16_halfLen_1) created and registered.\n",
      "I0114 13:35:37.289947 53904768 AssetAttributesManager.cpp:120] Asset attributes (coneSolid : coneSolid_segments_12_halfLen_1.25_rings_1_useTexCoords_false_useTangents_false_capEnd_true) created and registered.\n",
      "I0114 13:35:37.289986 53904768 AssetAttributesManager.cpp:120] Asset attributes (coneWireframe : coneWireframe_segments_32_halfLen_1.25) created and registered.\n",
      "I0114 13:35:37.290000 53904768 AssetAttributesManager.cpp:120] Asset attributes (cubeSolid : cubeSolid) created and registered.\n",
      "I0114 13:35:37.290014 53904768 AssetAttributesManager.cpp:120] Asset attributes (cubeWireframe : cubeWireframe) created and registered.\n",
      "I0114 13:35:37.290050 53904768 AssetAttributesManager.cpp:120] Asset attributes (cylinderSolid : cylinderSolid_rings_1_segments_12_halfLen_1_useTexCoords_false_useTangents_false_capEnds_true) created and registered.\n",
      "I0114 13:35:37.290078 53904768 AssetAttributesManager.cpp:120] Asset attributes (cylinderWireframe : cylinderWireframe_rings_1_segments_32_halfLen_1) created and registered.\n",
      "I0114 13:35:37.290096 53904768 AssetAttributesManager.cpp:120] Asset attributes (icosphereSolid : icosphereSolid_subdivs_1) created and registered.\n",
      "I0114 13:35:37.290109 53904768 AssetAttributesManager.cpp:120] Asset attributes (icosphereWireframe : icosphereWireframe_subdivs_1) created and registered.\n",
      "I0114 13:35:37.290133 53904768 AssetAtI0114 13:35:38.402305 15409 simulator.py:221] Loaded navmesh ./data/scene_datasets/mp3d_example/17DRP5sb8fy/17DRP5sb8fy.navmesh\n"
     ]
    },
    {
     "name": "stdout",
     "output_type": "stream",
     "text": [
      "Renderer: Apple M1 by Apple\n",
      "OpenGL version: 4.1 Metal - 76.1\n",
      "Using optional features:\n",
      "    GL_ARB_vertex_array_object\n",
      "    GL_ARB_ES2_compatibility\n",
      "    GL_ARB_separate_shader_objects\n",
      "    GL_ARB_texture_storage\n",
      "    GL_EXT_texture_filter_anisotropic\n",
      "    GL_EXT_debug_label\n",
      "    GL_EXT_debug_marker\n",
      "Using driver workarounds:\n",
      "    no-layout-qualifiers-on-old-glsl\n",
      "    apple-buffer-texture-unbind-on-buffer-modify\n"
     ]
    },
    {
     "name": "stderr",
     "output_type": "stream",
     "text": [
      "tributesManager.cpp:120] Asset attributes (uvSphereSolid : uvSphereSolid_rings_8_segments_16_useTexCoords_false_useTangents_false) created and registered.\n",
      "I0114 13:35:37.290156 53904768 AssetAttributesManager.cpp:120] Asset attributes (uvSphereWireframe : uvSphereWireframe_rings_16_segments_32) created and registered.\n",
      "I0114 13:35:37.290166 53904768 AssetAttributesManager.cpp:108] ::constructor : Built default primitive asset templates : 12\n",
      "I0114 13:35:37.290818 53904768 SceneDatasetAttributesManager.cpp:36] File (default) not found, so new default dataset attributes created and registered.\n",
      "I0114 13:35:37.290832 53904768 MetadataMediator.cpp:127] ::createSceneDataset : Dataset default successfully created.\n",
      "I0114 13:35:37.290864 53904768 AttributesManagerBase.h:365] <Physics Manager>::createFromJsonOrDefaultInternal : Proposing JSON name : ./data/default.physics_config.json from original name : ./data/default.physics_config.json | This file  does not exist.\n",
      "I0114 13:35:37.290899 53904768 PhysicsAttributesManager.cpp:26] File (./data/default.physics_config.json) not found, so new default physics manager attributes created and registered.\n",
      "I0114 13:35:37.290910 53904768 MetadataMediator.cpp:212] ::setActiveSceneDatasetName : Previous active dataset  changed to default successfully.\n",
      "I0114 13:35:37.290918 53904768 MetadataMediator.cpp:183] ::setCurrPhysicsAttributesHandle : Old physics manager attributes  changed to ./data/default.physics_config.json successfully.\n",
      "I0114 13:35:37.290930 53904768 MetadataMediator.cpp:68] ::setSimulatorConfiguration : Set new simulator config for scene/stage : ./data/scene_datasets/mp3d_example/17DRP5sb8fy/17DRP5sb8fy.glb and dataset : default which is currently active dataset.\n",
      "I0114 13:35:37.392802 53904768 ManagedFileBasedContainer.h:210] <Scene Instance>::convertFilenameToPassedExt : Filename : ./data/scene_datasets/mp3d_example/17DRP5sb8fy/17DRP5sb8fy.glb changed to proposed scene_instance.json filename : ./data/scene_datasets/mp3d_example/17DRP5sb8fy/17DRP5sb8fy.scene_instance.json\n",
      "I0114 13:35:37.392836 53904768 MetadataMediator.cpp:311] ::getSceneAttributesByName : Dataset : default has no preloaded SceneAttributes or StageAttributes named : ./data/scene_datasets/mp3d_example/17DRP5sb8fy/17DRP5sb8fy.glb so loading/creating a new StageAttributes with this name, and then creating a SceneAttributes with the same name that references this stage.\n",
      "I0114 13:35:37.392849 53904768 ManagedFileBasedContainer.h:210] <Stage Template>::convertFilenameToPassedExt : Filename : ./data/scene_datasets/mp3d_example/17DRP5sb8fy/17DRP5sb8fy.glb changed to proposed stage_config.json filename : ./data/scene_datasets/mp3d_example/17DRP5sb8fy/17DRP5sb8fy.stage_config.json\n",
      "I0114 13:35:37.392860 53904768 AttributesManagerBase.h:365] <Stage Template>::createFromJsonOrDefaultInternal : Proposing JSON name : ./data/scene_datasets/mp3d_example/17DRP5sb8fy/17DRP5sb8fy.stage_config.json from original name : ./data/scene_datasets/mp3d_example/17DRP5sb8fy/17DRP5sb8fy.glb | This file  does not exist.\n",
      "I0114 13:35:37.392926 53904768 AbstractObjectAttributesManagerBase.h:183] File (./data/scene_datasets/mp3d_example/17DRP5sb8fy/17DRP5sb8fy.glb) exists but is not a recognized config filename extension, so new default Stage Template attributes created and registered.\n",
      "I0114 13:35:37.393229 53904768 SceneDatasetAttributes.cpp:45] ::addNewSceneInstanceToDataset : Dataset : 'default' : Stage Attributes './data/scene_datasets/mp3d_example/17DRP5sb8fy/17DRP5sb8fy.glb' specified in Scene Attributes exists in dataset library.\n",
      "I0114 13:35:37.393236 53904768 SceneDatasetAttributes.cpp:79] ::addNewSceneInstanceToDataset : Dataset : 'default' : Lighting Layout Attributes 'no_lights' specified in Scene Attributes but does not exist in dataset, so creating.\n",
      "I0114 13:35:37.393242 53904768 ManagedFileBasedContainer.h:210] <Lighting Layout>::convertFilenameToPassedExt : Filename : no_lights changed to proposed lighting_config.json filename : no_lights.lighting_config.json\n",
      "I0114 13:35:37.393254 53904768 ManagedFileBasedContainer.h:210] <Lighting Layout>::convertFilenameToPassedExt : Filename : no_lights changed to proposed lighting_config.json filename : no_lights.lighting_config.json\n",
      "I0114 13:35:37.393260 53904768 AttributesManagerBase.h:365] <Lighting Layout>::createFromJsonOrDefaultInternal : Proposing JSON name : no_lights.lighting_config.json from original name : no_lights | This file  does not exist.\n",
      "I0114 13:35:37.393445 53904768 LightLayoutAttributesManager.cpp:34] File (no_lights) not found, so new default light layout attributes created and registered.\n",
      "I0114 13:35:37.393451 53904768 Simulator.cpp:206] ::setSceneInstanceAttributes : Navmesh file location in scene instance : ./data/scene_datasets/mp3d_example/17DRP5sb8fy/17DRP5sb8fy.navmesh\n",
      "I0114 13:35:37.393787 53904768 Simulator.cpp:213] ::setSceneInstanceAttributes : Loading navmesh from ./data/scene_datasets/mp3d_example/17DRP5sb8fy/17DRP5sb8fy.navmesh\n",
      "I0114 13:35:37.394279 53904768 Simulator.cpp:216] ::setSceneInstanceAttributes : Navmesh Loaded.\n",
      "I0114 13:35:37.394639 53904768 SceneGraph.h:85] Created DrawableGroup: \n",
      "I0114 13:35:37.394642 53904768 Simulator.cpp:251] ::setSceneInstanceAttributes : SceneInstance : ./data/scene_datasets/mp3d_example/17DRP5sb8fy/17DRP5sb8fy.glb proposed Semantic Scene Descriptor filename : ./data/scene_datasets/mp3d_example/17DRP5sb8fy/17DRP5sb8fy.house\n",
      "W0114 13:35:37.433007 53904768 Simulator.cpp:275] ::setSceneInstanceAttributes : All attempts to load SSD with SceneAttributes-provided name ./data/scene_datasets/mp3d_example/17DRP5sb8fy/17DRP5sb8fy.house : exist : 0 : loaded as expected type : 1\n",
      "I0114 13:35:37.434458 53904768 Simulator.cpp:324] ::createSceneInstance : Using scene instance-specified Light key : -no_lights-\n",
      "I0114 13:35:37.434463 53904768 MetadataMediator.cpp:68] ::setSimulatorConfiguration : Set new simulator config for scene/stage : ./data/scene_datasets/mp3d_example/17DRP5sb8fy/17DRP5sb8fy.glb and dataset : default which is currently active dataset.\n",
      "I0114 13:35:37.434473 53904768 Simulator.cpp:382] ::createSceneInstance : Start to load stage named : ./data/scene_datasets/mp3d_example/17DRP5sb8fy/17DRP5sb8fy.glb with render asset : ./data/scene_datasets/mp3d_example/17DRP5sb8fy/17DRP5sb8fy.glb and collision asset : ./data/scene_datasets/mp3d_example/17DRP5sb8fy/17DRP5sb8fy.glb\n",
      "I0114 13:35:37.434484 53904768 ResourceManager.cpp:257] ::loadStage : Not loading semantic mesh\n",
      "I0114 13:35:37.434486 53904768 ResourceManager.cpp:285] ::loadStage : start load render asset ./data/scene_datasets/mp3d_example/17DRP5sb8fy/17DRP5sb8fy.glb.\n",
      "I0114 13:35:37.434686 53904768 ResourceManager.cpp:699] ::loadStageInternal : Attempting to load stage ./data/scene_datasets/mp3d_example/17DRP5sb8fy/17DRP5sb8fy.glb \n",
      "I0114 13:35:37.434707 53904768 ResourceManager.cpp:1296] Importing Basis files as BC3 for 17DRP5sb8fy.glb\n",
      "I0114 13:35:38.400926 53904768 Simulator.cpp:400] ::createSceneInstance : Successfully loaded stage named : ./data/scene_datasets/mp3d_example/17DRP5sb8fy/17DRP5sb8fy.glb\n",
      "W0114 13:35:38.400943 53904768 Simulator.cpp:435] \n",
      "---\n",
      "Simulator::createSceneInstance : The active scene does not contain semantic annotations. \n",
      "---\n",
      "I0114 13:35:38.400949 53904768 MetadataMediator.cpp:262] ::getSceneAttributesByName : Query dataset : default for SceneAttributes named : ./data/scene_datasets/mp3d_example/17DRP5sb8fy/17DRP5sb8fy.glb yields 1 candidates.  Using ./data/scene_datasets/mp3d_example/17DRP5sb8fy/17DRP5sb8fy.glb.\n",
      "I0114 13:35:38.400955 53904768 SceneDatasetAttributes.cpp:45] ::addNewSceneInstanceToDataset : Dataset : 'default' : Stage Attributes './data/scene_datasets/mp3d_example/17DRP5sb8fy/17DRP5sb8fy.glb' specified in Scene Attributes exists in dataset library.\n",
      "I0114 13:35:38.400957 53904768 SceneDatasetAttributes.cpp:85] ::addNewSceneInstanceToDataset : Dataset : 'default' : Lighting Layout Attributes no_lights specified in Scene Attributes exists in dataset library.\n",
      "I0114 13:35:38.400961 53904768 MetadataMediator.cpp:262] ::getSceneAttributesByName : Query dataset : default for SceneAttributes named : ./data/scene_datasets/mp3d_example/17DRP5sb8fy/17DRP5sb8fy.glb yields 1 candidates.  Using ./data/scene_datasets/mp3d_example/17DRP5sb8fy/17DRP5sb8fy.glb.\n",
      "I0114 13:35:38.400965 53904768 SceneDatasetAttributes.cpp:45] ::addNewSceneInstanceToDataset : Dataset : 'default' : Stage Attributes './data/scene_datasets/mp3d_example/17DRP5sb8fy/17DRP5sb8fy.glb' specified in Scene Attributes exists in dataset library.\n",
      "I0114 13:35:38.400967 53904768 SceneDatasetAttributes.cpp:85] ::addNewSceneInstanceToDataset : Dataset : 'default' : Lighting Layout Attributes no_lights specified in Scene Attributes exists in dataset library.\n",
      "I0114 13:35:38.400977 53904768 Simulator.cpp:182] Simulator::reconfigure() : createSceneInstance success == true for active scene name : ./data/scene_datasets/mp3d_example/17DRP5sb8fy/17DRP5sb8fy.glb with renderer.\n"
     ]
    }
   ],
   "source": [
    "sim = habitat_sim.Simulator(cfg)"
   ]
  },
  {
   "cell_type": "code",
   "execution_count": null,
   "id": "afcdc297-03f9-4270-bcab-54dec0ee43f7",
   "metadata": {},
   "outputs": [],
   "source": []
  }
 ],
 "metadata": {
  "kernelspec": {
   "display_name": "Python 3 (ipykernel)",
   "language": "python",
   "name": "python3"
  },
  "language_info": {
   "codemirror_mode": {
    "name": "ipython",
    "version": 3
   },
   "file_extension": ".py",
   "mimetype": "text/x-python",
   "name": "python",
   "nbconvert_exporter": "python",
   "pygments_lexer": "ipython3",
   "version": "3.9.9"
  }
 },
 "nbformat": 4,
 "nbformat_minor": 5
}
